{
 "cells": [
  {
   "cell_type": "markdown",
   "metadata": {},
   "source": [
    "## 1. 实现`print`函数\n",
    "定义一个函数`print_string`，返回一个字符串。  \n",
    "`print_string`函数支持输入多个参数，每个参数间使用参数`sep`(默认一个空格)的字符进行连接，并且最后还要添加一个`end`(默认一个换行)参数的字符。  \n",
    "比如\n",
    "- `print_string('This is a test')` 返回`This is a test\\n`  \n",
    "- `print_string('This', 'is', 'a', 'test')` 返回`This is a test\\n`\n",
    "- `print_string('This', 'is', 'a', 'test', sep = '-')` 返回`This-is-a-test\\n`\n",
    "- `print_string('This', 'is', 'a', 'test', ',', 'Yes', sep = '_', end = '.')` 返回`This_is_a_test_,_Yes.`"
   ]
  },
  {
   "cell_type": "code",
   "execution_count": 50,
   "metadata": {},
   "outputs": [
    {
     "name": "stdout",
     "output_type": "stream",
     "text": [
      "This is a test\\n\n",
      "This is a test\\n\n",
      "This-is-a-test\\n\n",
      "This_is_a_test_,_Yes.\n"
     ]
    }
   ],
   "source": [
    "# your code here\n",
    "def print_string3(*arg1,sep =' ',arg2=r'\\n'):\n",
    "    arg3=sep.join(arg1)\n",
    "    print(arg3+arg2)\n",
    "print_string3('This is a test')\n",
    "print_string3('This', 'is', 'a', 'test')\n",
    "print_string3('This', 'is', 'a', 'test' ,sep = '-')\n",
    "print_string3('This', 'is', 'a', 'test', ',', 'Yes', sep = '_', arg2 = '.')"
   ]
  },
  {
   "cell_type": "code",
   "execution_count": 33,
   "metadata": {},
   "outputs": [
    {
     "name": "stdout",
     "output_type": "stream",
     "text": [
      "lowman,isbusy\n",
      "<class 'str'>\n"
     ]
    }
   ],
   "source": [
    "item1 = [\"lowman\", \"isbusy\"]\n",
    "item2 = \",\".join(item1) # 根据实际需要使用相应的分隔符连接列表元素,如 , : ; 或者空字符串\n",
    "print(item2)\n",
    "print(type(item2))"
   ]
  },
  {
   "cell_type": "markdown",
   "metadata": {},
   "source": [
    "## 2. 打印斐波那契数列\n",
    "以三种方式打印波那契数列    \n",
    "给定一个数值n，将前n项的波那契数列打印出来"
   ]
  },
  {
   "cell_type": "code",
   "execution_count": 77,
   "metadata": {},
   "outputs": [
    {
     "name": "stdout",
     "output_type": "stream",
     "text": [
      "1 1 2 3 5 8 13 21 34 55 89 144 233 377 610 987 1597 2584 4181 6765 10946 17711 28657 46368 75025 121393 196418 317811 514229 832040 1346269 2178309 3524578 5702887 9227465 14930352 24157817 39088169 63245986 102334155 165580141 267914296 433494437 701408733 1134903170 1836311903 2971215073 4807526976 7778742049 12586269025 "
     ]
    }
   ],
   "source": [
    "# your code here\n",
    "\n",
    "def fib(n):\n",
    "        a, b = 1, 1\n",
    "        for i in range(n):\n",
    "                print(a, end=' ')\n",
    "                a, b = b, a+b\n",
    "fib(50) #输出的是100以内的斐波那契数列\n",
    " \n",
    " \n"
   ]
  },
  {
   "cell_type": "code",
   "execution_count": 76,
   "metadata": {},
   "outputs": [
    {
     "name": "stdout",
     "output_type": "stream",
     "text": [
      "1 1 2 3 5 8 13 21 34 55 89 144 233 377 610 987 1597 2584 4181 6765 10946 17711 28657 46368 75025 121393 196418 317811 514229 832040 1346269 2178309 3524578 5702887 9227465 14930352 24157817 39088169 63245986 102334155 165580141 267914296 433494437 701408733 1134903170 1836311903 2971215073 4807526976 7778742049 12586269025 "
     ]
    }
   ],
   "source": [
    "def fib (n):\n",
    "    x1=(1+pow(5,0.5))/2\n",
    "    x2=(1-pow(5,0.5))/2\n",
    "    for i in range (1,n+1):\n",
    "        a=(x1**i-x2**i)/pow(5,0.5)\n",
    "        print(int(a),end=' ')\n",
    "fib(50)\n"
   ]
  },
  {
   "cell_type": "code",
   "execution_count": 122,
   "metadata": {},
   "outputs": [
    {
     "name": "stdout",
     "output_type": "stream",
     "text": [
      "[1, 1, 2, 3, 5, 8, 13, 21, 34, 55, 89, 144, 233, 377, 610, 987, 1597, 2584, 4181, 6765, 10946, 17711, 28657, 46368, 75025, 121393, 196418, 317811, 514229, 832040, 1346269, 2178309, 3524578, 5702887, 9227465, 14930352, 24157817, 39088169, 63245986, 102334155, 165580141, 267914296, 433494437, 701408733, 1134903170, 1836311903, 2971215073, 4807526976, 7778742049, 12586269025]\n"
     ]
    }
   ],
   "source": [
    "def fib(n):    \n",
    "    fib = []    \n",
    "    if n == 1:  \n",
    "        fib.append(1) \n",
    "        \n",
    "    elif n == 2:        \n",
    "        fib.append(1)       \n",
    "        fib.append(1)   \n",
    "    else:        \n",
    "        fib.append(1)        \n",
    "        fib.append(1)        \n",
    "        count = 2        \n",
    "        a, b = 1, 1        \n",
    "        while count < n:            \n",
    "            a, b = b, a + b         \n",
    "            count = count + 1            \n",
    "            fib.append(b)    \n",
    "    return fib \n",
    "print(fib(50))\n",
    "\n",
    "    \n",
    "\n"
   ]
  },
  {
   "cell_type": "markdown",
   "metadata": {},
   "source": [
    "不会使用notebook，使用作业.PDF文件查看作业，上传.py文件"
   ]
  }
 ],
 "metadata": {
  "kernelspec": {
   "display_name": "Python 3",
   "language": "python",
   "name": "python3"
  },
  "language_info": {
   "codemirror_mode": {
    "name": "ipython",
    "version": 3
   },
   "file_extension": ".py",
   "mimetype": "text/x-python",
   "name": "python",
   "nbconvert_exporter": "python",
   "pygments_lexer": "ipython3",
   "version": "3.7.3"
  }
 },
 "nbformat": 4,
 "nbformat_minor": 4
}
