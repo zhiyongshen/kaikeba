{
 "cells": [
  {
   "cell_type": "code",
   "execution_count": 1,
   "metadata": {},
   "outputs": [
    {
     "name": "stdout",
     "output_type": "stream",
     "text": [
      "<class 'str'>\n",
      "<class 'list'>\n"
     ]
    }
   ],
   "source": [
    "print(type('2'))\n",
    "print(type([1,2,]))"
   ]
  },
  {
   "cell_type": "markdown",
   "metadata": {},
   "source": [
    "'appple' 'banana'str 类的的一个具体对象"
   ]
  },
  {
   "cell_type": "markdown",
   "metadata": {},
   "source": [
    "类 高级 抽象\n",
    "对象/实例 具体化的概念"
   ]
  },
  {
   "cell_type": "markdown",
   "metadata": {},
   "source": [
    "请问 电影 动画电影 哪吒：魔童降临 list ‘猜猜我是啥’ 分别是\n",
    "A 类 类 实例 类 实例\n",
    "B 类 实例 实例 类 实例\n",
    "A 类 类 实例 类 类 "
   ]
  },
  {
   "cell_type": "markdown",
   "metadata": {},
   "source": [
    "**实物皆为对象**"
   ]
  },
  {
   "cell_type": "markdown",
   "metadata": {},
   "source": [
    "**python中的对象等于类与实例的集合**"
   ]
  },
  {
   "cell_type": "code",
   "execution_count": 6,
   "metadata": {},
   "outputs": [
    {
     "name": "stdout",
     "output_type": "stream",
     "text": [
      "0s "
     ]
    }
   ],
   "source": [
    "import time\n",
    "for i in range(4):\n",
    "   ## print('4s')\n",
    "    time.sleep(1)\n",
    "    print('\\r{}s'.format((3-i)), end=' ')"
   ]
  },
  {
   "cell_type": "markdown",
   "metadata": {},
   "source": [
    "**下面的代码演示\\r的作用**"
   ]
  },
  {
   "cell_type": "code",
   "execution_count": 8,
   "metadata": {},
   "outputs": [
    {
     "name": "stdout",
     "output_type": "stream",
     "text": [
      "3s 2s 1s 0s "
     ]
    }
   ],
   "source": [
    "import time\n",
    "for i in range(4):\n",
    "   ## print('4s')\n",
    "    time.sleep(1)\n",
    "    print('{}s'.format((3-i)), end=' ')"
   ]
  },
  {
   "cell_type": "code",
   "execution_count": null,
   "metadata": {},
   "outputs": [],
   "source": [
    "class chinese "
   ]
  },
  {
   "cell_type": "markdown",
   "metadata": {},
   "source": [
    "我们都是中国人，这句话表明我和你都属于中国人这个类别，这个类别下的人，都有一些共性：\n",
    "- 黑头发，\n",
    "- 黄皮肤，\n",
    "- 说中文，\n",
    "- 吃饺子\n",
    "\n",
    "这些共同点是中国人与外国人的主要区别\n",
    "\n",
    "这些共同点，也可以划分成两类，你可以思考3秒钟"
   ]
  },
  {
   "cell_type": "markdown",
   "metadata": {},
   "source": [
    "OK!\n",
    "\n",
    "**第一种**，是描述事物的特有属性，比如黑头发，黄皮肤\n",
    "\n",
    "**第二种**，是说明事物的动作或功能，比如说中文，吃饺子\n",
    "\n",
    "而在编程世界中，也是一样的。我们把第一类共同点称为属性(**what**)，第二类称为方法(**how**)。  \n",
    "\n",
    "比如列表的属性有：由一对中括号包围，中间元素由逗号分隔，方法有添加修改等"
   ]
  },
  {
   "cell_type": "markdown",
   "metadata": {},
   "source": [
    "strip 的用法如下"
   ]
  },
  {
   "cell_type": "code",
   "execution_count": 14,
   "metadata": {},
   "outputs": [
    {
     "name": "stdout",
     "output_type": "stream",
     "text": [
      "jbjjkllkl\n"
     ]
    }
   ],
   "source": [
    "print('**jbjjkllkl**'.strip('*'))"
   ]
  },
  {
   "cell_type": "code",
   "execution_count": 15,
   "metadata": {},
   "outputs": [
    {
     "name": "stdout",
     "output_type": "stream",
     "text": [
      "jbjjkllkl**\n"
     ]
    }
   ],
   "source": [
    "print('**jbjjkllkl**'.lstrip('*'))"
   ]
  },
  {
   "cell_type": "code",
   "execution_count": 13,
   "metadata": {},
   "outputs": [
    {
     "name": "stdout",
     "output_type": "stream",
     "text": [
      "3abcrunoob3\n"
     ]
    }
   ],
   "source": [
    "str = \"123abcrunoob321\"\n",
    "print (str.strip( '12' ))  # 字符序列为 12"
   ]
  },
  {
   "cell_type": "code",
   "execution_count": 16,
   "metadata": {},
   "outputs": [
    {
     "name": "stdout",
     "output_type": "stream",
     "text": [
      "**jbjjkllkl\n"
     ]
    }
   ],
   "source": [
    "print('**jbjjkllkl**'.rstrip('*'))"
   ]
  },
  {
   "cell_type": "code",
   "execution_count": 17,
   "metadata": {},
   "outputs": [
    {
     "name": "stdout",
     "output_type": "stream",
     "text": [
      "jbjjkllkl2\n"
     ]
    }
   ],
   "source": [
    "print('**jbjjkllkl**'.strip('*'), '2', sep='')"
   ]
  },
  {
   "cell_type": "code",
   "execution_count": 18,
   "metadata": {},
   "outputs": [
    {
     "name": "stdout",
     "output_type": "stream",
     "text": [
      "jbjjkllkl 2\n"
     ]
    }
   ],
   "source": [
    "print('**jbjjkllkl**'.strip('*'), '2')##sep=   的作用修改连字符"
   ]
  },
  {
   "cell_type": "markdown",
   "metadata": {},
   "source": [
    "**sep  的作用是修改连字符** \n",
    "如下"
   ]
  },
  {
   "cell_type": "code",
   "execution_count": 19,
   "metadata": {},
   "outputs": [
    {
     "name": "stdout",
     "output_type": "stream",
     "text": [
      "jbjjkllkl#2\n"
     ]
    }
   ],
   "source": [
    "print('**jbjjkllkl**'.strip('*'), '2', sep='#')"
   ]
  },
  {
   "cell_type": "code",
   "execution_count": 20,
   "metadata": {},
   "outputs": [
    {
     "name": "stdout",
     "output_type": "stream",
     "text": [
      "3\n"
     ]
    }
   ],
   "source": [
    "print([1,1,3].__len__())"
   ]
  },
  {
   "cell_type": "markdown",
   "metadata": {},
   "source": [
    "-面向对象编程\n",
    "-自定义类"
   ]
  },
  {
   "cell_type": "markdown",
   "metadata": {},
   "source": [
    "\n",
    "||现实|编程\n",
    "|:--:|:--:|:--:|\n",
    "例子|中国人类  属性：黑眼睛 黄皮肤  方法：说中文，吃饺子|列表类  属性：一对中括号包围  方法：append remove\n",
    "|共同点|类的属性和方法是所有实例都有，都可调用|same\n",
    "不同|现实中类的属性与方法是客观存在的，在编程中我们需要自己设计类的属性与方法| same"
   ]
  },
  {
   "cell_type": "markdown",
   "metadata": {},
   "source": [
    "**类的语法**"
   ]
  },
  {
   "cell_type": "markdown",
   "metadata": {},
   "source": [
    "``` python\n",
    "class Class_Name:\n",
    "    # 类的说明\n",
    "    # 变量\n",
    "    attribute = None\n",
    "    # 方法 固定写法self 指向运行的实例对象\n",
    "    def foo(self):\n",
    "        pass\n",
    "\n",
    "    \n",
    "# 创建实例  类的实例化\n",
    "obj = Class_Name()\n",
    "\n",
    "# 调用方法\n",
    "obj.foo()  #方法需要括号（）\n",
    "obj.attribute # 不需要括号\n",
    "\n",
    "```"
   ]
  },
  {
   "cell_type": "code",
   "execution_count": 33,
   "metadata": {},
   "outputs": [
    {
     "name": "stdout",
     "output_type": "stream",
     "text": [
      "f00\n",
      "********************\n",
      "foo\n",
      "<__main__.Sample_class object at 0x0000015014958080>\n",
      "<class '__main__.Sample_class'>\n"
     ]
    }
   ],
   "source": [
    "# 实例 self的重要性  固定用法\n",
    "class Sample_class:\n",
    "    def show():  #没有self 这个方法是属于类的\n",
    "        print('f00')\n",
    "        \n",
    "        \n",
    "    def show1(self):# 写了self是实例的方法\n",
    "        print('foo')\n",
    "        print(self)#指向实例 表示对象的内存地址\n",
    "        print(self.__class__)#指向类\n",
    "# its ok\n",
    "Sample_class.show()\n",
    "\n",
    "print('*'*20)\n",
    "sample_class = Sample_class()\n",
    "sample_class.show1()"
   ]
  },
  {
   "cell_type": "code",
   "execution_count": 39,
   "metadata": {},
   "outputs": [
    {
     "name": "stdout",
     "output_type": "stream",
     "text": [
      "李小龙\n",
      "李小龙吃饭，喜欢吃饺子\n"
     ]
    }
   ],
   "source": [
    "class Chinese:\n",
    "    name = '李小龙'\n",
    "    eye = 'black'\n",
    "    \n",
    "    def eat(self):\n",
    "        print(self.name+'吃饭，喜欢吃饺子')\n",
    "        \n",
    "lixiaolong = Chinese()\n",
    "print(lixiaolong.name)\n",
    "lixiaolong.eat()\n"
   ]
  },
  {
   "cell_type": "markdown",
   "metadata": {},
   "source": [
    "self指代实例化后的对象"
   ]
  },
  {
   "cell_type": "markdown",
   "metadata": {},
   "source": [
    "**关于self的总结**  \n",
    "第一：只要在类中使用def 定义方法，就需要把self作为第一个参数，调用时候会自动忽略\n",
    "\n",
    "第二：类的方法内部想要使用类的属性或方法时候，需要使用self.属性或self.方法\n",
    "\n",
    "作为初学者，如果对此不理解，多加练习，实现下功能，便能体会以及掌握`self`的作用了"
   ]
  },
  {
   "cell_type": "markdown",
   "metadata": {},
   "source": [
    "进阶：\n",
    "- 类的函数除了self外，和普通的方法参数传递一样，接收位置参数，关键字参数，也支持默认参数\n",
    "- 初始化方法"
   ]
  },
  {
   "cell_type": "code",
   "execution_count": 40,
   "metadata": {},
   "outputs": [
    {
     "name": "stdout",
     "output_type": "stream",
     "text": [
      "李小龙吃饭，喜欢吃饺子。\n"
     ]
    }
   ],
   "source": [
    "class Chinese:\n",
    "    name = '李小龙'\n",
    "    eye = 'black'\n",
    "\n",
    "    def eat(self, food='饺子'): #加了一个参数\n",
    "        print(self.name+'吃饭，喜欢吃'+food+'。')\n",
    "    \n",
    "lixiaolong = Chinese()\n",
    "lixiaolong.eat()"
   ]
  },
  {
   "cell_type": "code",
   "execution_count": 41,
   "metadata": {},
   "outputs": [
    {
     "name": "stdout",
     "output_type": "stream",
     "text": [
      "color of eye is black\n",
      "num of ear is 2\n"
     ]
    }
   ],
   "source": [
    "class Chinese:\n",
    "    # 初始化方法 同样固定的self用法\n",
    "    def __init__(self):\n",
    "        self.eye = 'black'\n",
    "        self.ear = 2\n",
    "        \n",
    "    def body(self):\n",
    "        print('color of eye is %s'%self.eye) # %s 表示字符串\n",
    "        print('num of ear is %d'%self.ear)  # %d 表示数值\n",
    "        \n",
    "lixiaolong = Chinese()#创建实例化的时候调用\n",
    "lixiaolong.body()"
   ]
  },
  {
   "cell_type": "code",
   "execution_count": 42,
   "metadata": {},
   "outputs": [
    {
     "name": "stdout",
     "output_type": "stream",
     "text": [
      "李小龙 : color of eye is black\n",
      "李小龙 : num of ear is 2\n"
     ]
    }
   ],
   "source": [
    "class Chinese:\n",
    "    # 初始化方法 同样固定的self用法\n",
    "    def __init__(self):\n",
    "        pass\n",
    "        \n",
    "    def get_eye(self, name, eye):\n",
    "        print('%s : color of eye is %s'%(name, eye)) # %s 表示字符串\n",
    "        \n",
    "    def get_ear(self, name, ear):\n",
    "        print('%s : num of ear is %d'%(name, ear))  # %d 表示数值\n",
    "    \n",
    "lixiaolong = Chinese()\n",
    "lixiaolong.get_eye('李小龙', 'black')\n",
    "lixiaolong.get_ear('李小龙', 2)"
   ]
  },
  {
   "cell_type": "markdown",
   "metadata": {},
   "source": [
    "**封装**\n",
    "类 实例 属性 方法 对象\n",
    "\n",
    "类 函数的集合体"
   ]
  },
  {
   "cell_type": "markdown",
   "metadata": {},
   "source": [
    "**图书管理系统**"
   ]
  },
  {
   "cell_type": "code",
   "execution_count": null,
   "metadata": {},
   "outputs": [
    {
     "name": "stdout",
     "output_type": "stream",
     "text": [
      "请选择功能：\n",
      "        1.查看\n",
      "        2.借书\n",
      "        3.还书\n",
      "        4.捐书\n",
      "        5.退出\n",
      "请输入功能数字:\n",
      "6\n",
      "ERROR!请重新选择！\n",
      "请选择功能：\n",
      "        1.查看\n",
      "        2.借书\n",
      "        3.还书\n",
      "        4.捐书\n",
      "        5.退出\n"
     ]
    }
   ],
   "source": [
    "class Book:\n",
    "    def __init__(self ,name, author, info, status=0):\n",
    "        \"\"\"\n",
    "        书名 作者 简介 借阅状态\n",
    "        \"\"\"\n",
    "        self.name = name\n",
    "        self.author = author\n",
    "        self.info = info\n",
    "        self.status = status\n",
    "   # def  show_book_info(self):\n",
    "    def  __str__(self):    #内置方法\n",
    "        if self.status == 0:\n",
    "            status = '未借阅'\n",
    "        else:\n",
    "            status = '已借阅'\n",
    "        return '书名:{}\\t 作者:{}\\t 简介:{}\\t 状态:{}\\t'.format(self.name, self.author, self.info, status)\n",
    "        \n",
    "\n",
    "        \n",
    "class BookManager:\n",
    "\n",
    "    def __init__(self):\n",
    "        book1 = Book('数学之美','吴军','AI的科普读物')\n",
    "        book2 = Book('三国演义','罗贯中','四大名著之一', 1)\n",
    "        book3 = Book('长安十二时辰','马伯庸','长安侦探小说')\n",
    "        self.books = []\n",
    "        self.books.append(book1)\n",
    "        self.books.append(book2)\n",
    "        self.books.append(book3)\n",
    "       \n",
    "    def menu(self):\n",
    "        info = '''请选择功能：\n",
    "        1.查看\n",
    "        2.借书\n",
    "        3.还书\n",
    "        4.捐书\n",
    "        5.退出'''\n",
    "\n",
    "        action = 0\n",
    "        while action != 5:\n",
    "            print(info)\n",
    "            try:\n",
    "                action = int(input('请输入功能数字:\\n'))\n",
    "                if action == 1:\n",
    "                    self.show_books()\n",
    "                elif action == 2:\n",
    "                    self.add_book()\n",
    "                elif action == 3:\n",
    "                    self.borrow_books()\n",
    "                elif action == 4:\n",
    "                    self.return_books()\n",
    "                elif action == 5:\n",
    "                    print('感谢使用！')\n",
    "                    break\n",
    "                else:\n",
    "                    print('ERROR!请重新选择！')\n",
    "            except Exception:\n",
    "                print('遇到问题了！')\n",
    "\n",
    "        \n",
    "        \n",
    "      \n",
    "        \n",
    "    \n",
    "    def add_book(self):\n",
    "        new_name = input('请输入书籍名称:')\n",
    "        new_author = input('请输入书籍作者:')\n",
    "        new_info = input('请输入书籍简介：')\n",
    "        new_book = Book(new_name, new_author, new_info)\n",
    "        \n",
    "        self.books.append(new_book)\n",
    "        print('书籍已成功保存！')  \n",
    "    \n",
    "    def show_books(self):\n",
    "        # 显示所有书\n",
    "        for book in self.books:\n",
    "            print(book)\n",
    "       # pass\n",
    "    \n",
    "    def borrow_books(self):\n",
    "        # 借书\n",
    "        borrow_name = input('请输入借阅图书名称：')\n",
    "        res = self.check_book(borrow_name)\n",
    "        if res!=0:\n",
    "            if res.status == 1:\n",
    "                print('你来晚了，已经借阅出去了！')\n",
    "            else:\n",
    "                res.status = 1\n",
    "                print('借阅成功!')\n",
    "        else:\n",
    "            print('真北图书馆正在采购中ing...')\n",
    "       \n",
    "       # pass\n",
    "\n",
    "    def check_book(self, name):\n",
    "        for book in self.books:    #未理解清楚？？？？？？？？？？？？？？？？？？？？？？？？？？？？？？\n",
    "            if book.name == name:\n",
    "                return book\n",
    "         \n",
    "        # 为什么用None?\n",
    "        return None        \n",
    "    def return_books(self):\n",
    "        return_name = input('请输入还书书名称：')\n",
    "        res = self.check_book(return_name)\n",
    "        if res!=0:\n",
    "            if res.status == 0:\n",
    "                print('未借')\n",
    "            else:\n",
    "                res.status = 1\n",
    "                print('还书成功!')\n",
    "                res.status = 0\n",
    "        else:\n",
    "            print('真北图书馆没有此书')        \n",
    "        # 还书\n",
    "        #pass\n",
    "manager = BookManager()\n",
    "manager.menu()\n"
   ]
  },
  {
   "cell_type": "code",
   "execution_count": null,
   "metadata": {},
   "outputs": [
    {
     "name": "stdout",
     "output_type": "stream",
     "text": [
      "请选择功能：\n",
      "1.查看\n",
      "2.借书\n",
      "3.还书\n",
      "4.捐书\n",
      "5.退出\n"
     ]
    }
   ],
   "source": [
    "info = '''请选择功能：\n",
    "1.查看\n",
    "2.借书\n",
    "3.还书\n",
    "4.捐书\n",
    "5.退出'''\n",
    "\n",
    "action = 0\n",
    "while action != 5:\n",
    "    print(info)\n",
    "    try:\n",
    "        action = int(input('请输入功能数字:\\n'))\n",
    "    except Exception:\n",
    "        print('遇到问题了！')"
   ]
  },
  {
   "cell_type": "code",
   "execution_count": 1,
   "metadata": {},
   "outputs": [
    {
     "name": "stdout",
     "output_type": "stream",
     "text": [
      "成年人\n"
     ]
    },
    {
     "ename": "Exception",
     "evalue": "('Invalid Age!', 'aaa')",
     "output_type": "error",
     "traceback": [
      "\u001b[1;31m---------------------------------------------------------------------------\u001b[0m",
      "\u001b[1;31mException\u001b[0m                                 Traceback (most recent call last)",
      "\u001b[1;32m<ipython-input-1-576b927b499a>\u001b[0m in \u001b[0;36m<module>\u001b[1;34m\u001b[0m\n\u001b[0;32m      9\u001b[0m \u001b[1;33m\u001b[0m\u001b[0m\n\u001b[0;32m     10\u001b[0m \u001b[0mis_adult\u001b[0m\u001b[1;33m(\u001b[0m\u001b[1;36m29\u001b[0m\u001b[1;33m)\u001b[0m\u001b[1;33m\u001b[0m\u001b[1;33m\u001b[0m\u001b[0m\n\u001b[1;32m---> 11\u001b[1;33m \u001b[0mis_adult\u001b[0m\u001b[1;33m(\u001b[0m\u001b[1;34m'aaa'\u001b[0m\u001b[1;33m)\u001b[0m\u001b[1;33m\u001b[0m\u001b[1;33m\u001b[0m\u001b[0m\n\u001b[0m",
      "\u001b[1;32m<ipython-input-1-576b927b499a>\u001b[0m in \u001b[0;36mis_adult\u001b[1;34m(age)\u001b[0m\n\u001b[0;32m      1\u001b[0m \u001b[1;32mdef\u001b[0m \u001b[0mis_adult\u001b[0m\u001b[1;33m(\u001b[0m\u001b[0mage\u001b[0m\u001b[1;33m)\u001b[0m\u001b[1;33m:\u001b[0m\u001b[1;33m\u001b[0m\u001b[1;33m\u001b[0m\u001b[0m\n\u001b[0;32m      2\u001b[0m     \u001b[1;32mif\u001b[0m \u001b[1;32mnot\u001b[0m \u001b[0misinstance\u001b[0m\u001b[1;33m(\u001b[0m\u001b[0mage\u001b[0m\u001b[1;33m,\u001b[0m \u001b[0mint\u001b[0m\u001b[1;33m)\u001b[0m \u001b[1;32mor\u001b[0m \u001b[0mage\u001b[0m \u001b[1;33m<\u001b[0m \u001b[1;36m1\u001b[0m\u001b[1;33m:\u001b[0m\u001b[1;33m\u001b[0m\u001b[1;33m\u001b[0m\u001b[0m\n\u001b[1;32m----> 3\u001b[1;33m         \u001b[1;32mraise\u001b[0m \u001b[0mException\u001b[0m\u001b[1;33m(\u001b[0m\u001b[1;34m\"Invalid Age!\"\u001b[0m\u001b[1;33m,\u001b[0m \u001b[0mage\u001b[0m\u001b[1;33m)\u001b[0m\u001b[1;33m\u001b[0m\u001b[1;33m\u001b[0m\u001b[0m\n\u001b[0m\u001b[0;32m      4\u001b[0m         \u001b[1;31m# 触发异常后，后面的代码就不会再执行\u001b[0m\u001b[1;33m\u001b[0m\u001b[1;33m\u001b[0m\u001b[1;33m\u001b[0m\u001b[0m\n\u001b[0;32m      5\u001b[0m     \u001b[1;32mif\u001b[0m \u001b[0mage\u001b[0m \u001b[1;33m>=\u001b[0m \u001b[1;36m18\u001b[0m\u001b[1;33m:\u001b[0m\u001b[1;33m\u001b[0m\u001b[1;33m\u001b[0m\u001b[0m\n",
      "\u001b[1;31mException\u001b[0m: ('Invalid Age!', 'aaa')"
     ]
    }
   ],
   "source": [
    "def is_adult(age):\n",
    "    if not isinstance(age, int) or age < 1:\n",
    "        raise Exception(\"Invalid Age!\", age)\n",
    "        # 触发异常后，后面的代码就不会再执行\n",
    "    if age >= 18:\n",
    "        print('成年人')\n",
    "    else:\n",
    "        print('未成年人')\n",
    "\n",
    "is_adult(29)\n",
    "is_adult('aaa')"
   ]
  },
  {
   "cell_type": "code",
   "execution_count": 2,
   "metadata": {},
   "outputs": [
    {
     "name": "stdout",
     "output_type": "stream",
     "text": [
      "After local assignment: test spam\n",
      "After nonlocal assignment: nonlocal spam\n",
      "After global assignment: nonlocal spam\n",
      "In global scope: global spam\n"
     ]
    }
   ],
   "source": [
    "def scope_test():\n",
    "    def do_local():\n",
    "        spam = \"local spam\"\n",
    "\n",
    "    def do_nonlocal():\n",
    "        nonlocal spam\n",
    "        spam = \"nonlocal spam\"\n",
    "\n",
    "    def do_global():\n",
    "        global spam\n",
    "        spam = \"global spam\"\n",
    "\n",
    "    spam = \"test spam\"\n",
    "    do_local()\n",
    "    print(\"After local assignment:\", spam)\n",
    "    do_nonlocal()\n",
    "    print(\"After nonlocal assignment:\", spam)\n",
    "    do_global()\n",
    "    print(\"After global assignment:\", spam)\n",
    "\n",
    "scope_test()\n",
    "print(\"In global scope:\", spam)"
   ]
  },
  {
   "cell_type": "code",
   "execution_count": null,
   "metadata": {},
   "outputs": [],
   "source": []
  }
 ],
 "metadata": {
  "kernelspec": {
   "display_name": "Python 3",
   "language": "python",
   "name": "python3"
  }
 },
 "nbformat": 4,
 "nbformat_minor": 2
}
