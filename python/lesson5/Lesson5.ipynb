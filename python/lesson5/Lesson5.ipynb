{
 "cells": [
  {
   "cell_type": "markdown",
   "metadata": {},
   "source": [
    "# 上周作业"
   ]
  },
  {
   "cell_type": "markdown",
   "metadata": {},
   "source": [
    "1. 安装 `numpy`, `matplotlib`,`sklearn`，`pandas`包, 并测试是否安装完成  \n",
    "如果遇到错误，请阅读错误并尝试自己解决  \n",
    "执行以下代码不报错\n",
    "``` python\n",
    "import numpy as np\n",
    "import matplotlib \n",
    "import sklearn\n",
    "```"
   ]
  },
  {
   "cell_type": "markdown",
   "metadata": {},
   "source": [
    "使用`pip install <package>`即可"
   ]
  },
  {
   "cell_type": "code",
   "execution_count": null,
   "metadata": {},
   "outputs": [],
   "source": [
    "红色的 timeout 超时 网络不好 源(国外，清华，豆瓣，阿里云，163)\n",
    "pip install scipy"
   ]
  },
  {
   "cell_type": "markdown",
   "metadata": {},
   "source": [
    "2. 打乱数据集  \n",
    "同时打乱 x,y，保证数据和标签的对应关系\n",
    "``` python\n",
    "x = ['快递太慢了！','不好吃','特别难吃','要齁死我了','很划算','下次还来','味道很不错！','香']\n",
    "y = ['差评','差评','差评','差评','好评','好评','好评','好评']\n",
    "```\n",
    "\n",
    "y=f(x) 0:差评 1:好评"
   ]
  },
  {
   "cell_type": "code",
   "execution_count": 3,
   "metadata": {},
   "outputs": [
    {
     "name": "stdout",
     "output_type": "stream",
     "text": [
      "要齁死我了 : 差评\n",
      "味道很不错！ : 好评\n",
      "不好吃 : 差评\n",
      "下次还来 : 好评\n",
      "香 : 好评\n",
      "快递太慢了！ : 差评\n",
      "很划算 : 好评\n",
      "特别难吃 : 差评\n"
     ]
    },
    {
     "data": {
      "text/plain": [
       "[None, None, None, None, None, None, None, None]"
      ]
     },
     "execution_count": 3,
     "metadata": {},
     "output_type": "execute_result"
    }
   ],
   "source": [
    "\n",
    "import random\n",
    "x = ['快递太慢了！','不好吃','特别难吃','要齁死我了','很划算','下次还来','味道很不错！','香']\n",
    "y = ['差评','差评','差评','差评','好评','好评','好评','好评']\n",
    "\n",
    "def shuffle(x,y):\n",
    "    \n",
    "    xy = list(zip(x,y))\n",
    "    random.seed(1) # 指定随机的种子\n",
    "    random.shuffle(xy)\n",
    "    x,y = zip(*xy)  # ('快递太慢了！', '差评')  ('很划算', '好评') ('不好吃', '差评')\n",
    "    return x,y\n",
    "    \n",
    "x,y = shuffle(x,y)\n",
    "[print(i,':',j) for i,j in zip(x,y)]"
   ]
  },
  {
   "cell_type": "markdown",
   "metadata": {},
   "source": [
    "3. 单词统计  \n",
    "使用函数，统计每个单词的出现次数，返回字典(查阅资料导入已完成此功能的包)\n",
    "``` python\n",
    "text = '2019 年 十月 一日 上午 ， 庆祝 中华人民共和国 成立 70 周年 阅兵式 在 首都北京 盛大举行 ， 59 个 阅兵 方阵 ， 580 台受 阅 装备 ， 1.5 万人 的 参阅 队伍 接受 了 全国 人民 的 检阅 。 阅兵 装备 方队 展示 的 武器装备 皆 为 国产 现役 主战 装备 ， 40% 为 首次 展示 。 其中 近些年来 广受 全球 关注 的 东风 41 洲际 弹道导弹 ， 巨浪 二潜射 弹道导弹 ， 东风 17 高超音速 武器 系统 终于 揭幕 亮剑 ， 以 \" 不怒 自威 \" 的 形象 向 世界 展示 中国 捍卫 和平 的 意志 与 力量 。 相较 于 其他 首度 公开 亮相 的 武器装备 ， 这 三款 武器 多年 来 传闻 不断 ， 备受 关注 ， 并 因 其 \" 大国 基石 \" 的 地位 而 被 公众 赋予 特殊 的 期待 ， 这 三款 武器装备 实力 究竟 如何 ， 又 各自 承担 着 怎样 的 历史 \" 使命 \" 呢 ？ 本报 特约 相关 领域 军事 专家 ， 为 大家 详细 解读 这 三款 彰显 国威 ， 震撼 世界 的 国 之 重器 。'\n",
    "```"
   ]
  },
  {
   "cell_type": "code",
   "execution_count": 2,
   "metadata": {},
   "outputs": [
    {
     "name": "stdout",
     "output_type": "stream",
     "text": [
      "Counter({'，': 15, '的': 11, '\"': 6, '。': 4, '装备': 3, '展示': 3, '武器装备': 3, '为': 3, '这': 3, '三款': 3, '阅兵': 2, '关注': 2, '东风': 2, '弹道导弹': 2, '武器': 2, '世界': 2, '2019': 1, '年': 1, '十月': 1, '一日': 1, '上午': 1, '庆祝': 1, '中华人民共和国': 1, '成立': 1, '70': 1, '周年': 1, '阅兵式': 1, '在': 1, '首都北京': 1, '盛大举行': 1, '59': 1, '个': 1, '方阵': 1, '580': 1, '台受': 1, '阅': 1, '1.5': 1, '万人': 1, '参阅': 1, '队伍': 1, '接受': 1, '了': 1, '全国': 1, '人民': 1, '检阅': 1, '方队': 1, '皆': 1, '国产': 1, '现役': 1, '主战': 1, '40%': 1, '首次': 1, '其中': 1, '近些年来': 1, '广受': 1, '全球': 1, '41': 1, '洲际': 1, '巨浪': 1, '二潜射': 1, '17': 1, '高超音速': 1, '系统': 1, '终于': 1, '揭幕': 1, '亮剑': 1, '以': 1, '不怒': 1, '自威': 1, '形象': 1, '向': 1, '中国': 1, '捍卫': 1, '和平': 1, '意志': 1, '与': 1, '力量': 1, '相较': 1, '于': 1, '其他': 1, '首度': 1, '公开': 1, '亮相': 1, '多年': 1, '来': 1, '传闻': 1, '不断': 1, '备受': 1, '并': 1, '因': 1, '其': 1, '大国': 1, '基石': 1, '地位': 1, '而': 1, '被': 1, '公众': 1, '赋予': 1, '特殊': 1, '期待': 1, '实力': 1, '究竟': 1, '如何': 1, '又': 1, '各自': 1, '承担': 1, '着': 1, '怎样': 1, '历史': 1, '使命': 1, '呢': 1, '？': 1, '本报': 1, '特约': 1, '相关': 1, '领域': 1, '军事': 1, '专家': 1, '大家': 1, '详细': 1, '解读': 1, '彰显': 1, '国威': 1, '震撼': 1, '国': 1, '之': 1, '重器': 1})\n"
     ]
    }
   ],
   "source": [
    "from collections import Counter# which package ? (you can change to from ? import ?)\n",
    "\n",
    "def count_words(text):\n",
    "    # your code here\n",
    "    return Counter(text.split())\n",
    "\n",
    "# test \n",
    "text = '2019 年 十月 一日 上午 ， 庆祝 中华人民共和国 成立 70 周年 阅兵式 在 首都北京 盛大举行 ， 59 个 阅兵 方阵 ， 580 台受 阅 装备 ， 1.5 万人 的 参阅 队伍 接受 了 全国 人民 的 检阅 。 阅兵 装备 方队 展示 的 武器装备 皆 为 国产 现役 主战 装备 ， 40% 为 首次 展示 。 其中 近些年来 广受 全球 关注 的 东风 41 洲际 弹道导弹 ， 巨浪 二潜射 弹道导弹 ， 东风 17 高超音速 武器 系统 终于 揭幕 亮剑 ， 以 \" 不怒 自威 \" 的 形象 向 世界 展示 中国 捍卫 和平 的 意志 与 力量 。 相较 于 其他 首度 公开 亮相 的 武器装备 ， 这 三款 武器 多年 来 传闻 不断 ， 备受 关注 ， 并 因 其 \" 大国 基石 \" 的 地位 而 被 公众 赋予 特殊 的 期待 ， 这 三款 武器装备 实力 究竟 如何 ， 又 各自 承担 着 怎样 的 历史 \" 使命 \" 呢 ？ 本报 特约 相关 领域 军事 专家 ， 为 大家 详细 解读 这 三款 彰显 国威 ， 震撼 世界 的 国 之 重器 。'\n",
    "print(count_words(text))"
   ]
  },
  {
   "cell_type": "markdown",
   "metadata": {},
   "source": [
    "# Lesson5 上帝式思维：面向对象"
   ]
  },
  {
   "cell_type": "markdown",
   "metadata": {},
   "source": [
    "![](https://upload-images.jianshu.io/upload_images/647982-954bc7ad13c1ba39.png?imageMogr2/auto-orient/strip|imageView2/2/w/1172/format/webp)  \n",
    "[面向对象编程](https://upload-images.jianshu.io/upload_images/647982-954bc7ad13c1ba39.png?imageMogr2/auto-orient/strip|imageView2/2/w/1172/format/webp)  \n",
    "[面向对象编程](https://upload-images.jianshu.io/upload_images/647982-954bc7ad13c1ba39.png?imageMogr2/auto-orient/strip|imageView2/2/w/1172/format/webp)"
   ]
  },
  {
   "cell_type": "markdown",
   "metadata": {},
   "source": [
    "![](https://uploader.shimo.im/f/GZv2UtHKfGYxNPxa.gif)  \n",
    "[项目](https://github.com/CharlesPikachu/Games/tree/master/Game15)"
   ]
  },
  {
   "cell_type": "markdown",
   "metadata": {},
   "source": [
    "## 万物皆可为*类*"
   ]
  },
  {
   "cell_type": "markdown",
   "metadata": {},
   "source": [
    "当你想象‘类’这个字的时候，映入眼帘的是什么？\n",
    "\n",
    "是一类人，一类物？对，类就是表述有一些相同特性的群体。\n",
    "\n",
    "现在，你可以把目标转移到屏幕外手边的其它物品，看看它们都是什么类别。\n",
    "\n",
    "没错，基本上它们都可以归为各种各样的类别，比如电子类，服饰类……\n",
    "\n",
    "再想一下，加入我们去购物网站去购买这些东西，很自然就想到要按类别查看。\n",
    "\n",
    "[京东的购物页面](https://www.jd.com/)"
   ]
  },
  {
   "cell_type": "markdown",
   "metadata": {},
   "source": [
    "所以类的概念体现在生活中的方方面面，它能帮助我们快速认知一类事物的特性。\n",
    "\n",
    "当然，它在编程里，你也已经悄咪咪的接触了。比如整数、字符串，不同的数据类型就是不同的类。\n",
    "\n",
    "相同的类型具有相同的性质，不同的类型具有不同的特性。\n",
    "\n",
    "我们可以使用`type()`函数来查看它们的类型。"
   ]
  },
  {
   "cell_type": "code",
   "execution_count": 13,
   "metadata": {},
   "outputs": [
    {
     "data": {
      "text/plain": [
       "(str, int, float, numpy.ndarray)"
      ]
     },
     "execution_count": 13,
     "metadata": {},
     "output_type": "execute_result"
    }
   ],
   "source": [
    "import numpy as np \n",
    "type('a'),type(1),type(2.2),type(np.array([1,2,3]))"
   ]
  },
  {
   "cell_type": "code",
   "execution_count": 14,
   "metadata": {},
   "outputs": [
    {
     "name": "stdout",
     "output_type": "stream",
     "text": [
      "<class 'str'>\n",
      "<class 'int'>\n",
      "<class 'list'>\n"
     ]
    }
   ],
   "source": [
    "print(type('666')) #‘666’属于字符串类 ‘str’\n",
    "print(type(520)) #520属于整数类 ‘int’\n",
    "print((type([1,0,2,4])))# [1,0,2,4]属于列表类’list’"
   ]
  },
  {
   "cell_type": "markdown",
   "metadata": {},
   "source": [
    "输出的结果 `<class 'str'>`表示666属于字符串类，以此类推。\n",
    "\n",
    "和生活中类的概念相似，编程中的类也是一个抽象的词，就像说甲和乙是一类人一样，变量x='apple'是属于字符串类的。\n",
    "\n",
    "而这里的甲、乙、变量x都是某个类的具体化的实例，这些类可以由很多个具体化的实例，比如苹果和香蕉都是水果，'apple'和'banana'都属于字符串类。\n",
    "\n",
    "也就是说类是一个比较高级的抽象的概念性东西，而实例就是某个概念的具体化的对象。\n",
    "\n",
    "在Python中，我们把类的具体化的例子称为实例(instance)，也可以理解为‘实际的例子‘"
   ]
  },
  {
   "cell_type": "markdown",
   "metadata": {},
   "source": [
    "**类** -> 抽象的概念  \n",
    "**对象** -> 具化的概念"
   ]
  },
  {
   "cell_type": "markdown",
   "metadata": {},
   "source": [
    "请问 电影 动画电影 哪吒：魔童降临 `list` ‘猜猜我是啥’ 分别是  \n",
    "A 类 类 实例 类 实例  \n",
    "B 类 实例 实例 类 实例  \n",
    "A 类 类 实例 类 类  "
   ]
  },
  {
   "cell_type": "markdown",
   "metadata": {},
   "source": [
    "## 实物皆为对象"
   ]
  },
  {
   "cell_type": "markdown",
   "metadata": {},
   "source": [
    "一句话：  \n",
    "**Python中的对象等于类和实例的集合**\n",
    "\n",
    "类是对象，实例也是对象  \n",
    "\n",
    "这是Python和其它编程语言一个很大的区别！\n",
    "\n",
    "也是Python简单又强大的一个原因。"
   ]
  },
  {
   "cell_type": "markdown",
   "metadata": {},
   "source": [
    "## 我们都是中国人"
   ]
  },
  {
   "cell_type": "markdown",
   "metadata": {},
   "source": [
    "我们都是中国人，这句话表明我和你都属于中国人这个类别，这个类别下的人，都有一些共性：\n",
    "- 黑头发，\n",
    "- 黄皮肤，\n",
    "- 说中文，\n",
    "- 吃饺子\n",
    "\n",
    "这些共同点是中国人与外国人的主要区别\n",
    "\n",
    "这些共同点，也可以划分成两类，你可以思考3秒钟"
   ]
  },
  {
   "cell_type": "code",
   "execution_count": 23,
   "metadata": {},
   "outputs": [
    {
     "name": "stdout",
     "output_type": "stream",
     "text": [
      "0s"
     ]
    },
    {
     "data": {
      "text/plain": [
       "'时间结束！'"
      ]
     },
     "execution_count": 23,
     "metadata": {},
     "output_type": "execute_result"
    }
   ],
   "source": [
    "import time\n",
    "for i in range(4):\n",
    "    time.sleep(1)\n",
    "    print('\\r{}s'.format(3-i), end='')\n",
    "'时间结束！'"
   ]
  },
  {
   "cell_type": "markdown",
   "metadata": {},
   "source": [
    "OK!\n",
    "\n",
    "**第一种**，是描述事物的特有属性，比如黑头发，黄皮肤\n",
    "\n",
    "**第二种**，是说明事物的动作或功能，比如说中文，吃饺子\n",
    "\n",
    "而在编程世界中，也是一样的。我们把第一类共同点称为属性(**what**)，第二类称为方法(**how**)。  \n",
    "\n",
    "比如列表的属性有：由一对中括号包围，中间元素由逗号分隔，方法有添加修改等"
   ]
  },
  {
   "cell_type": "code",
   "execution_count": 31,
   "metadata": {},
   "outputs": [
    {
     "name": "stdout",
     "output_type": "stream",
     "text": [
      "这是一段乱七八糟的文本\n",
      "3\n"
     ]
    }
   ],
   "source": [
    "# .属性  .方法\n",
    "\n",
    "# 字符串的strip()方法\n",
    "print(' 这是一段乱七八糟的文本 \\n'.strip())\n",
    "\n",
    "# 数组的 __len__ 方法  不常用\n",
    "print([1,2,3].__len__())"
   ]
  },
  {
   "cell_type": "markdown",
   "metadata": {},
   "source": [
    "Python中每个类都有自己的属性(attribute)和方法(method)，每个类的实例都可以调用这些属性或方法，因为它们是共享的。\n",
    "\n",
    "但是呢，像列表，整数类等这些东西都是python帮我们已经定义好了的类，那我们可以自己定义新的类，以及它的属性和方法嘛？\n",
    "\n",
    "答案当然是可以的了！这也就是面向对象编程的思路。"
   ]
  },
  {
   "cell_type": "markdown",
   "metadata": {},
   "source": [
    "\n",
    "||现实|编程\n",
    "|:--:|:--:|:--:|\n",
    "例子|中国人类  属性：黑眼睛 黄皮肤  方法：说中文，吃饺子|列表类  属性：一对中括号包围  方法：append remove\n",
    "|共同点|类的属性和方法是所有实例都有，都可调用|same\n",
    "不同|现实中类的属性与方法是客观存在的，在编程中我们需要自己设计类的属性与方法| same\n"
   ]
  },
  {
   "cell_type": "markdown",
   "metadata": {},
   "source": [
    "## 类的语法"
   ]
  },
  {
   "cell_type": "markdown",
   "metadata": {},
   "source": [
    "``` python\n",
    "class Class_Name:\n",
    "    # 类的说明\n",
    "    # 变量\n",
    "    attribute = None\n",
    "    # 方法 固定写法self 指向运行的实例对象\n",
    "    def foo(self):\n",
    "        pass\n",
    "\n",
    "    \n",
    "# 创建实例  类的实例化\n",
    "obj = Class_Name()\n",
    "\n",
    "# 调用方法\n",
    "obj.foo()\n",
    "```"
   ]
  },
  {
   "cell_type": "code",
   "execution_count": 1,
   "metadata": {},
   "outputs": [
    {
     "ename": "TypeError",
     "evalue": "show() missing 1 required positional argument: 'self'",
     "output_type": "error",
     "traceback": [
      "\u001b[1;31m---------------------------------------------------------------------------\u001b[0m",
      "\u001b[1;31mTypeError\u001b[0m                                 Traceback (most recent call last)",
      "\u001b[1;32m<ipython-input-1-8b8fdb903721>\u001b[0m in \u001b[0;36m<module>\u001b[1;34m\u001b[0m\n\u001b[0;32m      8\u001b[0m \u001b[1;33m\u001b[0m\u001b[0m\n\u001b[0;32m      9\u001b[0m \u001b[1;31m# its ok\u001b[0m\u001b[1;33m\u001b[0m\u001b[1;33m\u001b[0m\u001b[1;33m\u001b[0m\u001b[0m\n\u001b[1;32m---> 10\u001b[1;33m \u001b[0mSample_class\u001b[0m\u001b[1;33m.\u001b[0m\u001b[0mshow\u001b[0m\u001b[1;33m(\u001b[0m\u001b[1;33m)\u001b[0m\u001b[1;33m\u001b[0m\u001b[1;33m\u001b[0m\u001b[0m\n\u001b[0m\u001b[0;32m     11\u001b[0m \u001b[1;33m\u001b[0m\u001b[0m\n\u001b[0;32m     12\u001b[0m \u001b[1;31m# its wrong\u001b[0m\u001b[1;33m\u001b[0m\u001b[1;33m\u001b[0m\u001b[1;33m\u001b[0m\u001b[0m\n",
      "\u001b[1;31mTypeError\u001b[0m: show() missing 1 required positional argument: 'self'"
     ]
    }
   ],
   "source": [
    "# 实例 self的重要性  固定用法\n",
    "class Sample_class:\n",
    "    def show():\n",
    "        print('f00')\n",
    "    def show(self):\n",
    "        print('foo')\n",
    "\n",
    "        \n",
    "# its ok\n",
    "Sample_class.show()\n",
    "\n",
    "# its wrong\n",
    "sample_class = Sample_class()\n",
    "sample_class.show2()"
   ]
  },
  {
   "cell_type": "code",
   "execution_count": 11,
   "metadata": {},
   "outputs": [
    {
     "name": "stdout",
     "output_type": "stream",
     "text": [
      "<__main__.Sample_class object at 0x7fcd60568ac8>\n",
      "<class '__main__.Sample_class'>\n",
      "********************\n",
      "<__main__.Sample_class object at 0x7fcd60568ac8>\n",
      "<class '__main__.Sample_class'>\n"
     ]
    }
   ],
   "source": [
    "# 实例 self的重要性  固定用法\n",
    "class Sample_class:\n",
    "    def show(self):\n",
    "        print(self) # 指向类的实例， 代表当前对象的(内存)地址\n",
    "        print(self.__class__) # 指向类\n",
    "        \n",
    "sample_class = Sample_class()\n",
    "sample_class.show()\n",
    "print('*'*20)\n",
    "print(sample_class)\n",
    "print(sample_class.__class__)"
   ]
  },
  {
   "cell_type": "markdown",
   "metadata": {},
   "source": [
    "我们来创建一个中国人的类  \n",
    "\n",
    "并添加眼睛属性，和吃饭方法。"
   ]
  },
  {
   "cell_type": "code",
   "execution_count": 13,
   "metadata": {},
   "outputs": [
    {
     "name": "stdout",
     "output_type": "stream",
     "text": [
      "吃饭，喜欢吃饺子。\n"
     ]
    }
   ],
   "source": [
    "# 类名首字母大写\n",
    "class Chinese:\n",
    "    # 用赋值语句，创建类的属性\n",
    "    eye = 'black'\n",
    "\n",
    "    # 创建实例方法时，不要漏了 self\n",
    "    def eat(self):\n",
    "        print('吃饭，喜欢吃饺子。')\n",
    "        \n",
    "lixiaolong = Chinese()\n",
    "lixiaolong.eat()"
   ]
  },
  {
   "cell_type": "markdown",
   "metadata": {},
   "source": [
    "起个名字，然后输出以下"
   ]
  },
  {
   "cell_type": "code",
   "execution_count": 16,
   "metadata": {},
   "outputs": [
    {
     "name": "stdout",
     "output_type": "stream",
     "text": [
      "李小龙\n"
     ]
    },
    {
     "ename": "NameError",
     "evalue": "name 'name' is not defined",
     "output_type": "error",
     "traceback": [
      "\u001b[0;31m---------------------------------------------------------------------------\u001b[0m",
      "\u001b[0;31mNameError\u001b[0m                                 Traceback (most recent call last)",
      "\u001b[0;32m<ipython-input-16-280a15a6f829>\u001b[0m in \u001b[0;36m<module>\u001b[0;34m\u001b[0m\n\u001b[1;32m      8\u001b[0m \u001b[0mlixiaolong\u001b[0m \u001b[0;34m=\u001b[0m \u001b[0mChinese\u001b[0m\u001b[0;34m(\u001b[0m\u001b[0;34m)\u001b[0m\u001b[0;34m\u001b[0m\u001b[0;34m\u001b[0m\u001b[0m\n\u001b[1;32m      9\u001b[0m \u001b[0mprint\u001b[0m\u001b[0;34m(\u001b[0m\u001b[0mlixiaolong\u001b[0m\u001b[0;34m.\u001b[0m\u001b[0mname\u001b[0m\u001b[0;34m)\u001b[0m\u001b[0;34m\u001b[0m\u001b[0;34m\u001b[0m\u001b[0m\n\u001b[0;32m---> 10\u001b[0;31m \u001b[0mlixiaolong\u001b[0m\u001b[0;34m.\u001b[0m\u001b[0meat\u001b[0m\u001b[0;34m(\u001b[0m\u001b[0;34m)\u001b[0m\u001b[0;34m\u001b[0m\u001b[0;34m\u001b[0m\u001b[0m\n\u001b[0m",
      "\u001b[0;32m<ipython-input-16-280a15a6f829>\u001b[0m in \u001b[0;36meat\u001b[0;34m(self)\u001b[0m\n\u001b[1;32m      4\u001b[0m \u001b[0;34m\u001b[0m\u001b[0m\n\u001b[1;32m      5\u001b[0m     \u001b[0;32mdef\u001b[0m \u001b[0meat\u001b[0m\u001b[0;34m(\u001b[0m\u001b[0mself\u001b[0m\u001b[0;34m)\u001b[0m\u001b[0;34m:\u001b[0m\u001b[0;34m\u001b[0m\u001b[0;34m\u001b[0m\u001b[0m\n\u001b[0;32m----> 6\u001b[0;31m         \u001b[0mprint\u001b[0m\u001b[0;34m(\u001b[0m\u001b[0mname\u001b[0m\u001b[0;34m+\u001b[0m\u001b[0;34m'吃饭，喜欢吃饺子。'\u001b[0m\u001b[0;34m)\u001b[0m\u001b[0;34m\u001b[0m\u001b[0;34m\u001b[0m\u001b[0m\n\u001b[0m\u001b[1;32m      7\u001b[0m \u001b[0;34m\u001b[0m\u001b[0m\n\u001b[1;32m      8\u001b[0m \u001b[0mlixiaolong\u001b[0m \u001b[0;34m=\u001b[0m \u001b[0mChinese\u001b[0m\u001b[0;34m(\u001b[0m\u001b[0;34m)\u001b[0m\u001b[0;34m\u001b[0m\u001b[0;34m\u001b[0m\u001b[0m\n",
      "\u001b[0;31mNameError\u001b[0m: name 'name' is not defined"
     ]
    }
   ],
   "source": [
    "class Chinese:\n",
    "    name = '李小龙'\n",
    "    eye = 'black'\n",
    "\n",
    "    def eat(self):\n",
    "        print(name+'吃饭，喜欢吃饺子。')\n",
    "        \n",
    "lixiaolong = Chinese()\n",
    "print(lixiaolong.name)\n",
    "lixiaolong.eat()"
   ]
  },
  {
   "cell_type": "markdown",
   "metadata": {},
   "source": [
    "`name 'name' is not defined`   \n",
    "\n",
    "**你想要在类的内部调用属性，但你的类的实例还没有创建，那么就需要一个'替身'来代替，这就是`self`**"
   ]
  },
  {
   "cell_type": "code",
   "execution_count": 18,
   "metadata": {},
   "outputs": [
    {
     "name": "stdout",
     "output_type": "stream",
     "text": [
      "李小龙\n",
      "李小龙吃饭，喜欢吃饺子。\n"
     ]
    }
   ],
   "source": [
    "class Chinese:\n",
    "    name = '李小龙'\n",
    "    eye = 'black'\n",
    "\n",
    "    def eat(self):\n",
    "        print(self.name+'吃饭，喜欢吃饺子。')\n",
    "        \n",
    "lixiaolong = Chinese()\n",
    "print(lixiaolong.name)\n",
    "lixiaolong.eat()"
   ]
  },
  {
   "cell_type": "markdown",
   "metadata": {},
   "source": [
    "**关于self的总结**  \n",
    "第一：只要在类中使用def 定义方法，就需要把self作为第一个参数，调用时候会自动忽略\n",
    "\n",
    "第二：类的方法内部想要使用类的属性或方法时候，需要使用self.属性或self.方法\n",
    "\n",
    "作为初学者，如果对此不理解，多加练习，实现下功能，便能体会以及掌握`self`的作用了"
   ]
  },
  {
   "cell_type": "markdown",
   "metadata": {},
   "source": [
    "进阶：\n",
    "- 类的函数除了self外，和普通的方法参数传递一样，接收位置参数，关键字参数，也支持默认参数\n",
    "- 初始化方法"
   ]
  },
  {
   "cell_type": "code",
   "execution_count": 22,
   "metadata": {},
   "outputs": [
    {
     "name": "stdout",
     "output_type": "stream",
     "text": [
      "李小龙吃饭，喜欢吃饺子。\n"
     ]
    }
   ],
   "source": [
    "class Chinese:\n",
    "    name = '李小龙'\n",
    "    eye = 'black'\n",
    "\n",
    "    def eat(self, food='饺子'):\n",
    "        print(self.name+'吃饭，喜欢吃'+food+'。')\n",
    "    \n",
    "lixiaolong = Chinese()\n",
    "lixiaolong.eat()"
   ]
  },
  {
   "cell_type": "markdown",
   "metadata": {},
   "source": [
    " "
   ]
  },
  {
   "cell_type": "markdown",
   "metadata": {},
   "source": [
    "关于函数参数传递的使用，大家可以课下多练习一下。"
   ]
  },
  {
   "cell_type": "code",
   "execution_count": 24,
   "metadata": {},
   "outputs": [
    {
     "name": "stdout",
     "output_type": "stream",
     "text": [
      "color of eye is black\n",
      "num of ear is 2\n"
     ]
    }
   ],
   "source": [
    "class Chinese:\n",
    "    # 初始化方法 同样固定的self用法\n",
    "    def __init__(self):\n",
    "        self.eye = 'black'\n",
    "        self.ear = 2\n",
    "        \n",
    "    def body(self):\n",
    "        print('color of eye is %s'%self.eye) # %s 表示字符串\n",
    "        print('num of ear is %d'%self.ear)  # %d 表示数值\n",
    "        \n",
    "lixiaolong = Chinese()\n",
    "lixiaolong.body()"
   ]
  },
  {
   "cell_type": "code",
   "execution_count": 4,
   "metadata": {},
   "outputs": [
    {
     "name": "stdout",
     "output_type": "stream",
     "text": [
      "lixiaolong color of eye is black\n",
      "lixiaolong num of ear is 2\n"
     ]
    }
   ],
   "source": [
    "class Chinese:\n",
    "    # 初始化方法 同样固定的self用法\n",
    "    def __init__(self, name):\n",
    "        self.name = name\n",
    "        self.eye = 'black'\n",
    "        self.ear = 2\n",
    "        \n",
    "    def body(self):\n",
    "        print('%s color of eye is %s'%(self.name, self.eye)) # %s 表示字符串\n",
    "        print('%s num of ear is %d'%(self.name, self.ear))  # %d 表示数值\n",
    "        \n",
    "lixiaolong = Chinese('lixiaolong')\n",
    "lixiaolong.body()"
   ]
  },
  {
   "cell_type": "markdown",
   "metadata": {},
   "source": [
    "还可以用初始化方法来传递参数，从而进行不同的赋值，还能再类间方法传递"
   ]
  },
  {
   "cell_type": "code",
   "execution_count": 27,
   "metadata": {},
   "outputs": [
    {
     "name": "stdout",
     "output_type": "stream",
     "text": [
      "李小龙 : color of eye is black\n",
      "李小龙 : num of ear is 2\n"
     ]
    }
   ],
   "source": [
    "class Chinese:\n",
    "    # 初始化方法 同样固定的self用法\n",
    "    def __init__(self, name, eye='black', ear=2):\n",
    "        self.name = name\n",
    "        self.eye = eye\n",
    "        self.ear = ear\n",
    "        \n",
    "    def body(self):\n",
    "        print('%s : color of eye is %s'%(self.name, self.eye)) # %s 表示字符串\n",
    "        print('%s : num of ear is %d'%(self.name, self.ear))  # %d 表示数值\n",
    "        \n",
    "lixiaolong = Chinese('李小龙')\n",
    "lixiaolong.body()"
   ]
  },
  {
   "cell_type": "markdown",
   "metadata": {},
   "source": [
    "可以看到，当初始化方法有多个参数的时候，在实例化的时候就需要传入对应的参数。\n",
    "当实例创建完成后，初始化的方法就会自动执行，为了习惯，我们使属性名和传入参数的名称保持一致。"
   ]
  },
  {
   "cell_type": "markdown",
   "metadata": {},
   "source": [
    "这时候你可能会说，哪怕是不用初始化方法也能达到同样的效果"
   ]
  },
  {
   "cell_type": "code",
   "execution_count": 28,
   "metadata": {},
   "outputs": [
    {
     "name": "stdout",
     "output_type": "stream",
     "text": [
      "李小龙 : color of eye is black\n",
      "李小龙 : num of ear is 2\n"
     ]
    }
   ],
   "source": [
    "class Chinese:\n",
    "    # 初始化方法 同样固定的self用法\n",
    "    def __init__(self):\n",
    "        pass\n",
    "        \n",
    "    def get_eye(self, name, eye):\n",
    "        print('%s : color of eye is %s'%(name, eye)) # %s 表示字符串\n",
    "        \n",
    "    def get_ear(self, name, ear):\n",
    "        print('%s : num of ear is %d'%(name, ear))  # %d 表示数值\n",
    "    \n",
    "lixiaolong = Chinese()\n",
    "lixiaolong.get_eye('李小龙', 'black')\n",
    "lixiaolong.get_ear('李小龙', 2)"
   ]
  },
  {
   "cell_type": "markdown",
   "metadata": {},
   "source": [
    "这样的话效果基本一样，但有个非常麻烦的地方，就是name在每个方法调用的时候都进行了传递。  \n",
    "相比上面那种写法，这非常麻烦不是吗？。"
   ]
  },
  {
   "cell_type": "markdown",
   "metadata": {},
   "source": [
    "当我们实现的功能越来越复杂的时候，类的内部需要很多方法。如果使用初始化方法，就能将数据长久保存到类中，并帮助数据在类的不同方法中进行传递。\n",
    "\n",
    "再次恭喜你，你已经掌握了创建类的两个关键语法和概念。课堂上的例子比较简单，类在复杂的项目中使用更加复杂。\n",
    "\n",
    "在有了以上知识之后，我们可以学习更加深入的问题了：什么是面向对象编程"
   ]
  },
  {
   "cell_type": "markdown",
   "metadata": {},
   "source": [
    "面向对象编程的特点之一是封装， 在前面以及讲了一些函数及封装的概念，这里不再累述。  "
   ]
  },
  {
   "cell_type": "markdown",
   "metadata": {},
   "source": [
    "好了，现在可以放松一下，揉揉太阳穴，在自己的大脑里回顾一下自己对**类**、**实例**、**对象**、**属性**和**方法**这些词的理解。\n",
    "\n",
    "已经思考完了吗？确定的话，再往下走。\n",
    "\n",
    "你是否想到了现实中的类(比如动物)和编程中的类(如int)的对比？是否想到了某个类下的某个具体个例，类似编程中的类的某个实例？\n",
    "\n",
    "是否也已经能将现实事物中的某些属性和方法与编程中的概念相对应。\n",
    "\n",
    "所以，可以说：编程世界的创建是来自于人对现实世界的理解。而这种将现实世界中的事物抽象成编程世界里的能力，是非常有助于提升代码理解。"
   ]
  },
  {
   "cell_type": "markdown",
   "metadata": {},
   "source": [
    "（暂时不要）面向对象另一个特性是**继承**"
   ]
  },
  {
   "cell_type": "markdown",
   "metadata": {},
   "source": [
    "面向对象的两种使用方法：  \n",
    "- 作为一种抽象类型的模板，提供实例\n",
    "- 作为多个函数的集合体"
   ]
  },
  {
   "cell_type": "markdown",
   "metadata": {},
   "source": [
    "来做一个图书管理系统，和之前的ATM很像  \n",
    "- 查询所有书籍\n",
    "- 添加书籍\n",
    "- 借书\n",
    "- 还书\n",
    "- 退出系统\n"
   ]
  },
  {
   "cell_type": "markdown",
   "metadata": {},
   "source": [
    "我们使用`menu`来封装菜单功能  \n",
    "整体架构如下:  "
   ]
  },
  {
   "cell_type": "code",
   "execution_count": 30,
   "metadata": {},
   "outputs": [],
   "source": [
    "class Book:\n",
    "    def __init__(self):\n",
    "        # 初始化属性信息\n",
    "        pass\n",
    "    \n",
    "class BookManager:\n",
    "    def menu(self):\n",
    "        # 显示菜单\n",
    "        pass\n",
    "    \n",
    "    def add_book(self):\n",
    "        # 捐书\n",
    "        pass\n",
    "    \n",
    "    def show_books(self):\n",
    "        # 显示所有书\n",
    "        pass\n",
    "    \n",
    "    def borrow_books(self):\n",
    "        # 借书\n",
    "        pass\n",
    "    \n",
    "    def return_books(self):\n",
    "        # 还书\n",
    "        pass"
   ]
  },
  {
   "cell_type": "markdown",
   "metadata": {},
   "source": [
    "完成Book类"
   ]
  },
  {
   "cell_type": "code",
   "execution_count": 32,
   "metadata": {},
   "outputs": [
    {
     "data": {
      "text/plain": [
       "'刘慈欣'"
      ]
     },
     "execution_count": 32,
     "metadata": {},
     "output_type": "execute_result"
    }
   ],
   "source": [
    "class Book:\n",
    "    def __init__(self, name, author, info, status=0):\n",
    "        \"\"\"\n",
    "        书名，作者，简介，借阅状态\n",
    "        \"\"\"\n",
    "        self.name = name\n",
    "        self.author = author\n",
    "        self.info = info\n",
    "        self.status = status\n",
    "\n",
    "book = Book('三体', '刘慈欣', '科幻巨作', '未借阅')\n",
    "book.author"
   ]
  },
  {
   "cell_type": "markdown",
   "metadata": {},
   "source": [
    "为了方便打印，我们定义一下固定输出格式的方法"
   ]
  },
  {
   "cell_type": "code",
   "execution_count": 34,
   "metadata": {},
   "outputs": [
    {
     "name": "stdout",
     "output_type": "stream",
     "text": [
      "书名:三体\t 作者:刘慈欣\t 简介:科幻巨作\t 状态:已借阅\t\n"
     ]
    }
   ],
   "source": [
    "class Book:\n",
    "    def __init__(self, name, author, info, status=0):\n",
    "        \"\"\"\n",
    "        书名，作者，简介，借阅状态\n",
    "        \"\"\"\n",
    "        self.name = name\n",
    "        self.author = author\n",
    "        self.info = info\n",
    "        self.status = status\n",
    "    \n",
    "    def show_book_info(self):\n",
    "        if self.status == 0:\n",
    "            status = '未借阅'\n",
    "        else:\n",
    "            status = '已借阅'\n",
    "            \n",
    "        return '书名:{}\\t 作者:{}\\t 简介:{}\\t 状态:{}\\t'.format(self.name, self.author, self.info, status)\n",
    "    \n",
    "book = Book('三体', '刘慈欣', '科幻巨作', '未借阅')\n",
    "print(book.show_book_info())"
   ]
  },
  {
   "cell_type": "markdown",
   "metadata": {},
   "source": [
    "print 一个对象， 就是调用对象的__str__方法， 我们来**重写**一下这个方法  \n",
    "\n",
    "左右都带下划线是特殊方法"
   ]
  },
  {
   "cell_type": "code",
   "execution_count": 37,
   "metadata": {},
   "outputs": [
    {
     "name": "stdout",
     "output_type": "stream",
     "text": [
      "书名:三体\t 作者:刘慈欣\t 简介:科幻巨作\t 状态:已借阅\t\n"
     ]
    }
   ],
   "source": [
    "class Book:\n",
    "    def __init__(self, name, author, info, status=0):\n",
    "        \"\"\"\n",
    "        书名，作者，简介，借阅状态\n",
    "        \"\"\"\n",
    "        self.name = name\n",
    "        self.author = author\n",
    "        self.info = info\n",
    "        self.status = status\n",
    "    \n",
    "    def __str__(self):\n",
    "        if self.status == 0:\n",
    "            status = '未借阅'\n",
    "        else:\n",
    "            status = '已借阅'\n",
    "            \n",
    "        return '书名:{}\\t 作者:{}\\t 简介:{}\\t 状态:{}\\t'.format(self.name, self.author, self.info, status)\n",
    "    \n",
    "book = Book('三体', '刘慈欣', '科幻巨作', '未借阅')\n",
    "print(book)"
   ]
  },
  {
   "cell_type": "markdown",
   "metadata": {},
   "source": [
    "来继续写BookManager()"
   ]
  },
  {
   "cell_type": "code",
   "execution_count": 44,
   "metadata": {},
   "outputs": [
    {
     "name": "stdout",
     "output_type": "stream",
     "text": [
      "\n",
      "1.查询\n",
      "2.捐书\n",
      "3.借书\n",
      "4.还书\n",
      "5.退出\n",
      "            \n"
     ]
    },
    {
     "name": "stdin",
     "output_type": "stream",
     "text": [
      "请选择功能对应的数字： 5\n"
     ]
    },
    {
     "name": "stdout",
     "output_type": "stream",
     "text": [
      "感谢使用！\n"
     ]
    }
   ],
   "source": [
    "class BookManager():\n",
    "    def menu(self):\n",
    "        while True:\n",
    "            print(\"\"\"\n",
    "1.查询\n",
    "2.捐书\n",
    "3.借书\n",
    "4.还书\n",
    "5.退出\n",
    "            \"\"\")\n",
    "            choice = int(input('请选择功能对应的数字：'))\n",
    "            if choice == 1:\n",
    "                self.show_books()\n",
    "            elif choice == 2:\n",
    "                self.add_book()\n",
    "            elif choice == 3:\n",
    "                self.borrow_books()\n",
    "            elif choice == 4:\n",
    "                self.return_books()\n",
    "            elif choice == 5:\n",
    "                print('感谢使用！')\n",
    "                break\n",
    "            else:\n",
    "                print('ERROR!请重新选择！')\n",
    "                \n",
    "    def add_book(self):\n",
    "        # 捐书\n",
    "        pass\n",
    "    \n",
    "    def show_books(self):\n",
    "        # 显示所有书\n",
    "        pass\n",
    "    \n",
    "    def borrow_books(self):\n",
    "        # 借书\n",
    "        pass\n",
    "    \n",
    "    def return_books(self):\n",
    "        # 还书\n",
    "        pass\n",
    "    \n",
    "bm = BookManager()\n",
    "bm.menu()"
   ]
  },
  {
   "cell_type": "markdown",
   "metadata": {},
   "source": [
    "已经完成了整体架构  \n",
    "继续完善细节"
   ]
  },
  {
   "cell_type": "code",
   "execution_count": 47,
   "metadata": {},
   "outputs": [
    {
     "name": "stdout",
     "output_type": "stream",
     "text": [
      "书名:数学之美\t 作者:吴军\t 简介:AI的科普读物\t 状态:未借阅\t\n",
      "书名:三国演义\t 作者:罗贯中\t 简介:四大名著之一\t 状态:已借阅\t\n",
      "书名:长安十二时辰\t 作者:马伯庸\t 简介:长安侦探小说\t 状态:未借阅\t\n"
     ]
    }
   ],
   "source": [
    "class BookManager():\n",
    "   \n",
    "    \n",
    "    def __init__(self):\n",
    "        book1 = Book('数学之美','吴军','AI的科普读物')\n",
    "        book2 = Book('三国演义','罗贯中','四大名著之一', 1)\n",
    "        book3 = Book('长安十二时辰','马伯庸','长安侦探小说')\n",
    "        \n",
    "        self.books.append(book1)\n",
    "        self.books.append(book2)\n",
    "        self.books.append(book3)\n",
    "        \n",
    "    def menu(self):\n",
    "        while True:\n",
    "            print(\"\"\"\n",
    "1.查询\n",
    "2.捐书\n",
    "3.借书\n",
    "4.还书\n",
    "5.退出\n",
    "            \"\"\")\n",
    "            choice = int(input('请选择功能对应的数字：'))\n",
    "            if choice == 1:\n",
    "                self.show_books()\n",
    "            elif choice == 2:\n",
    "                self.add_book()\n",
    "            elif choice == 3:\n",
    "                self.borrow_books()\n",
    "            elif choice == 4:\n",
    "                self.return_books()\n",
    "            elif choice == 5:\n",
    "                print('感谢使用！')\n",
    "                break\n",
    "            else:\n",
    "                print('ERROR!请重新选择！')\n",
    "                \n",
    "    def add_book(self):\n",
    "        # 捐书\n",
    "        pass\n",
    "    \n",
    "    def show_books(self):\n",
    "        # 显示所有书\n",
    "        for book in self.books:\n",
    "            print(book)\n",
    "        pass\n",
    "    \n",
    "    def borrow_books(self):\n",
    "        # 借书\n",
    "        pass\n",
    "    \n",
    "    def return_books(self):\n",
    "        # 还书\n",
    "        pass\n",
    "    \n",
    "manager = BookManager()\n",
    "manager.show_books()"
   ]
  },
  {
   "cell_type": "markdown",
   "metadata": {},
   "source": [
    " \n",
    " \n",
    "继续完善捐书功能  "
   ]
  },
  {
   "cell_type": "code",
   "execution_count": 52,
   "metadata": {},
   "outputs": [
    {
     "name": "stdin",
     "output_type": "stream",
     "text": [
      "请输入书籍名称: Computer Science\n",
      "请输入书籍作者: chen\n",
      "请输入书籍简介： some info\n"
     ]
    },
    {
     "name": "stdout",
     "output_type": "stream",
     "text": [
      "书籍已成功保存！\n",
      "书名:数学之美\t 作者:吴军\t 简介:AI的科普读物\t 状态:未借阅\t\n",
      "书名:三国演义\t 作者:罗贯中\t 简介:四大名著之一\t 状态:已借阅\t\n",
      "书名:长安十二时辰\t 作者:马伯庸\t 简介:长安侦探小说\t 状态:未借阅\t\n",
      "书名:Computer Science\t 作者:chen\t 简介:some info\t 状态:未借阅\t\n"
     ]
    }
   ],
   "source": [
    "class BookManager():\n",
    "    books = []\n",
    "    \n",
    "    def __init__(self):\n",
    "        book1 = Book('数学之美','吴军','AI的科普读物')\n",
    "        book2 = Book('三国演义','罗贯中','四大名著之一', 1)\n",
    "        book3 = Book('长安十二时辰','马伯庸','长安侦探小说')\n",
    "        \n",
    "        self.books.append(book1)\n",
    "        self.books.append(book2)\n",
    "        self.books.append(book3)\n",
    "        \n",
    "    def menu(self):\n",
    "        while True:\n",
    "            print(\"\"\"\n",
    "1.查询\n",
    "2.捐书\n",
    "3.借书\n",
    "4.还书\n",
    "5.退出\n",
    "            \"\"\")\n",
    "            choice = int(input('请选择功能对应的数字：'))\n",
    "            if choice == 1:\n",
    "                self.show_books()\n",
    "            elif choice == 2:\n",
    "                self.add_book()\n",
    "            elif choice == 3:\n",
    "                self.borrow_books()\n",
    "            elif choice == 4:\n",
    "                self.return_books()\n",
    "            elif choice == 5:\n",
    "                print('感谢使用！')\n",
    "                break\n",
    "            else:\n",
    "                print('ERROR!请重新选择！')\n",
    "                \n",
    "    def add_book(self):\n",
    "        # 捐书\n",
    "        new_name = input('请输入书籍名称:')\n",
    "        new_author = input('请输入书籍作者:')\n",
    "        new_info = input('请输入书籍简介：')\n",
    "        new_book = Book(new_name, new_author, new_info)\n",
    "        \n",
    "        self.books.append(new_book)\n",
    "        print('书籍已成功保存！')\n",
    "        pass\n",
    "    \n",
    "    def show_books(self):\n",
    "        # 显示所有书\n",
    "        for book in self.books:\n",
    "            print(book)\n",
    "        pass\n",
    "    \n",
    "    def borrow_books(self):\n",
    "        # 借书\n",
    "        pass\n",
    "    \n",
    "    def return_books(self):\n",
    "        # 还书\n",
    "        pass\n",
    "    \n",
    "manager = BookManager()\n",
    "manager.add_book()\n",
    "manager.show_books()"
   ]
  },
  {
   "cell_type": "markdown",
   "metadata": {},
   "source": [
    "来完成借阅功能"
   ]
  },
  {
   "cell_type": "code",
   "execution_count": 1,
   "metadata": {},
   "outputs": [
    {
     "ename": "NameError",
     "evalue": "name 'Book' is not defined",
     "output_type": "error",
     "traceback": [
      "\u001b[1;31m---------------------------------------------------------------------------\u001b[0m",
      "\u001b[1;31mNameError\u001b[0m                                 Traceback (most recent call last)",
      "\u001b[1;32m<ipython-input-1-33be2a8ed48d>\u001b[0m in \u001b[0;36m<module>\u001b[1;34m\u001b[0m\n\u001b[0;32m     69\u001b[0m         \u001b[1;32mpass\u001b[0m\u001b[1;33m\u001b[0m\u001b[1;33m\u001b[0m\u001b[0m\n\u001b[0;32m     70\u001b[0m \u001b[1;33m\u001b[0m\u001b[0m\n\u001b[1;32m---> 71\u001b[1;33m \u001b[0mmanager\u001b[0m \u001b[1;33m=\u001b[0m \u001b[0mBookManager\u001b[0m\u001b[1;33m(\u001b[0m\u001b[1;33m)\u001b[0m\u001b[1;33m\u001b[0m\u001b[1;33m\u001b[0m\u001b[0m\n\u001b[0m\u001b[0;32m     72\u001b[0m \u001b[0mmanager\u001b[0m\u001b[1;33m.\u001b[0m\u001b[0mborrow_books\u001b[0m\u001b[1;33m(\u001b[0m\u001b[1;33m)\u001b[0m\u001b[1;33m\u001b[0m\u001b[1;33m\u001b[0m\u001b[0m\n\u001b[0;32m     73\u001b[0m \u001b[0mmanager\u001b[0m\u001b[1;33m.\u001b[0m\u001b[0mshows_books\u001b[0m\u001b[1;33m(\u001b[0m\u001b[1;33m)\u001b[0m\u001b[1;33m\u001b[0m\u001b[1;33m\u001b[0m\u001b[0m\n",
      "\u001b[1;32m<ipython-input-1-33be2a8ed48d>\u001b[0m in \u001b[0;36m__init__\u001b[1;34m(self)\u001b[0m\n\u001b[0;32m      3\u001b[0m \u001b[1;33m\u001b[0m\u001b[0m\n\u001b[0;32m      4\u001b[0m     \u001b[1;32mdef\u001b[0m \u001b[0m__init__\u001b[0m\u001b[1;33m(\u001b[0m\u001b[0mself\u001b[0m\u001b[1;33m)\u001b[0m\u001b[1;33m:\u001b[0m\u001b[1;33m\u001b[0m\u001b[1;33m\u001b[0m\u001b[0m\n\u001b[1;32m----> 5\u001b[1;33m         \u001b[0mbook1\u001b[0m \u001b[1;33m=\u001b[0m \u001b[0mBook\u001b[0m\u001b[1;33m(\u001b[0m\u001b[1;34m'数学之美'\u001b[0m\u001b[1;33m,\u001b[0m\u001b[1;34m'吴军'\u001b[0m\u001b[1;33m,\u001b[0m\u001b[1;34m'AI的科普读物'\u001b[0m\u001b[1;33m)\u001b[0m\u001b[1;33m\u001b[0m\u001b[1;33m\u001b[0m\u001b[0m\n\u001b[0m\u001b[0;32m      6\u001b[0m         \u001b[0mbook2\u001b[0m \u001b[1;33m=\u001b[0m \u001b[0mBook\u001b[0m\u001b[1;33m(\u001b[0m\u001b[1;34m'三国演义'\u001b[0m\u001b[1;33m,\u001b[0m\u001b[1;34m'罗贯中'\u001b[0m\u001b[1;33m,\u001b[0m\u001b[1;34m'四大名著之一'\u001b[0m\u001b[1;33m,\u001b[0m \u001b[1;36m1\u001b[0m\u001b[1;33m)\u001b[0m\u001b[1;33m\u001b[0m\u001b[1;33m\u001b[0m\u001b[0m\n\u001b[0;32m      7\u001b[0m         \u001b[0mbook3\u001b[0m \u001b[1;33m=\u001b[0m \u001b[0mBook\u001b[0m\u001b[1;33m(\u001b[0m\u001b[1;34m'长安十二时辰'\u001b[0m\u001b[1;33m,\u001b[0m\u001b[1;34m'马伯庸'\u001b[0m\u001b[1;33m,\u001b[0m\u001b[1;34m'长安侦探小说'\u001b[0m\u001b[1;33m)\u001b[0m\u001b[1;33m\u001b[0m\u001b[1;33m\u001b[0m\u001b[0m\n",
      "\u001b[1;31mNameError\u001b[0m: name 'Book' is not defined"
     ]
    }
   ],
   "source": [
    "class BookManager():\n",
    "    books = []\n",
    "    \n",
    "    def __init__(self):\n",
    "        book1 = Book('数学之美','吴军','AI的科普读物')\n",
    "        book2 = Book('三国演义','罗贯中','四大名著之一', 1)\n",
    "        book3 = Book('长安十二时辰','马伯庸','长安侦探小说')\n",
    "        \n",
    "        self.books.append(book1)\n",
    "        self.books.append(book2)\n",
    "        self.books.append(book3)\n",
    "        \n",
    "    def menu(self):\n",
    "        while True:\n",
    "            print(\"\"\"\n",
    "1.查询\n",
    "2.捐书\n",
    "3.借书\n",
    "4.还书\n",
    "5.退出\n",
    "            \"\"\")\n",
    "            choice = int(input('请选择功能对应的数字：'))\n",
    "            if choice == 1:\n",
    "                self.show_books()\n",
    "            elif choice == 2:\n",
    "                self.add_book()\n",
    "            elif choice == 3:\n",
    "                self.borrow_books()\n",
    "            elif choice == 4:\n",
    "                self.return_books()\n",
    "            elif choice == 5:\n",
    "                print('感谢使用！')\n",
    "                break\n",
    "            else:\n",
    "                print('ERROR!请重新选择！')\n",
    "                \n",
    "    def add_book(self):\n",
    "        # 捐书\n",
    "        new_name = input('请输入书籍名称:')\n",
    "        new_author = input('请输入书籍作者:')\n",
    "        new_info = input('请输入书籍简介：')\n",
    "        new_book = Book(new_name, new_author, new_info)\n",
    "        \n",
    "        self.books.append(new_book)\n",
    "        print('书籍已成功保存！')\n",
    "        pass\n",
    "    \n",
    "    def show_books(self):\n",
    "        # 显示所有书\n",
    "        for book in self.books:\n",
    "            print(book)\n",
    "        pass\n",
    "    \n",
    "    def borrow_books(self):\n",
    "        # 借书\n",
    "        borrow_name = input('请输入借阅图书名称：')\n",
    "        for book in self.books:\n",
    "            if book.name == borrow_name:\n",
    "                if book.status == 1:\n",
    "                    print('你来晚了，已经借阅出去了！')\n",
    "                else:\n",
    "                    book.status = 1\n",
    "                    print('借阅成功!')\n",
    "                    \n",
    "                break\n",
    "    \n",
    "    def return_books(self):\n",
    "        # 还书\n",
    "        pass\n",
    "    \n",
    "manager = BookManager()\n",
    "manager.borrow_books()\n",
    "manager.shows_books()"
   ]
  },
  {
   "cell_type": "markdown",
   "metadata": {},
   "source": [
    "我们添加一个check方法，来判断是否书籍存在"
   ]
  },
  {
   "cell_type": "code",
   "execution_count": 68,
   "metadata": {},
   "outputs": [
    {
     "name": "stdin",
     "output_type": "stream",
     "text": [
      "请输入借阅图书名称： 数学之美\n"
     ]
    },
    {
     "name": "stdout",
     "output_type": "stream",
     "text": [
      "借阅成功!\n"
     ]
    }
   ],
   "source": [
    "class BookManager():\n",
    "    books = []\n",
    "    \n",
    "    def __init__(self):\n",
    "        book1 = Book('数学之美','吴军','AI的科普读物')\n",
    "        book2 = Book('三国演义','罗贯中','四大名著之一', 1)\n",
    "        book3 = Book('长安十二时辰','马伯庸','长安侦探小说')\n",
    "        \n",
    "        self.books.append(book1)\n",
    "        self.books.append(book2)\n",
    "        self.books.append(book3)\n",
    "        \n",
    "    def menu(self):\n",
    "        while True:\n",
    "            print(\"\"\"\n",
    "1.查询\n",
    "2.捐书\n",
    "3.借书\n",
    "4.还书\n",
    "5.退出\n",
    "            \"\"\")\n",
    "            choice = int(input('请选择功能对应的数字：'))\n",
    "            if choice == 1:\n",
    "                self.show_books()\n",
    "            elif choice == 2:\n",
    "                self.add_book()\n",
    "            elif choice == 3:\n",
    "                self.borrow_books()\n",
    "            elif choice == 4:\n",
    "                self.return_books()\n",
    "            elif choice == 5:\n",
    "                print('感谢使用！')\n",
    "                break\n",
    "            else:\n",
    "                print('ERROR!请重新选择！')\n",
    "                \n",
    "    def add_book(self):\n",
    "        # 捐书\n",
    "        new_name = input('请输入书籍名称:')\n",
    "        new_author = input('请输入书籍作者:')\n",
    "        new_info = input('请输入书籍简介：')\n",
    "        new_book = Book(new_name, new_author, new_info)\n",
    "        \n",
    "        self.books.append(new_book)\n",
    "        print('书籍已成功保存！')\n",
    "        pass\n",
    "    \n",
    "    def show_books(self):\n",
    "        # 显示所有书\n",
    "        for book in self.books:\n",
    "            print(book)\n",
    "        pass\n",
    "    \n",
    "    def borrow_books(self):\n",
    "        # 借书\n",
    "        borrow_name = input('请输入借阅图书名称：')\n",
    "        \n",
    "        res = self.check_book(borrow_name)\n",
    "        if res :\n",
    "            if res.status == 1:\n",
    "                print('你来晚了，已经借阅出去了！')\n",
    "            else:\n",
    "                res.status = 1\n",
    "                print('借阅成功!')\n",
    "        else:\n",
    "            print('真北图书馆正在采购ing...')\n",
    "                \n",
    "    \n",
    "    def return_books(self):\n",
    "        # 还书\n",
    "        pass\n",
    "    \n",
    "    def check_book(self, name):\n",
    "        for book in self.books:\n",
    "            if book.name == name:\n",
    "                return book\n",
    "         \n",
    "        # 为什么用None?\n",
    "        return None\n",
    "            \n",
    "manager = BookManager()\n",
    "manager.borrow_books()"
   ]
  },
  {
   "cell_type": "markdown",
   "metadata": {},
   "source": [
    "还差一个return_book, 功能类似，来实现一下"
   ]
  },
  {
   "cell_type": "code",
   "execution_count": 73,
   "metadata": {},
   "outputs": [
    {
     "name": "stdin",
     "output_type": "stream",
     "text": [
      "请输入归还书籍名称： 三国演义\n"
     ]
    },
    {
     "name": "stdout",
     "output_type": "stream",
     "text": [
      "归还成功，欢迎再次借阅！\n"
     ]
    }
   ],
   "source": [
    "class BookManager():\n",
    "    books = []\n",
    "    \n",
    "    def __init__(self):\n",
    "        book1 = Book('数学之美','吴军','AI的科普读物')\n",
    "        book2 = Book('三国演义','罗贯中','四大名著之一', 1)\n",
    "        book3 = Book('长安十二时辰','马伯庸','长安侦探小说')\n",
    "        \n",
    "        self.books.append(book1)\n",
    "        self.books.append(book2)\n",
    "        self.books.append(book3)\n",
    "        \n",
    "    def menu(self):\n",
    "        while True:\n",
    "            print(\"\"\"\n",
    "1.查询\n",
    "2.捐书\n",
    "3.借书\n",
    "4.还书\n",
    "5.退出\n",
    "            \"\"\")\n",
    "            choice = int(input('请选择功能对应的数字：'))\n",
    "            if choice == 1:\n",
    "                self.show_books()\n",
    "            elif choice == 2:\n",
    "                self.add_book()\n",
    "            elif choice == 3:\n",
    "                self.borrow_books()\n",
    "            elif choice == 4:\n",
    "                self.return_books()\n",
    "            elif choice == 5:\n",
    "                print('感谢使用！')\n",
    "                break\n",
    "            else:\n",
    "                print('ERROR!请重新选择！')\n",
    "                \n",
    "    def add_book(self):\n",
    "        # 捐书\n",
    "        new_name = input('请输入书籍名称:')\n",
    "        new_author = input('请输入书籍作者:')\n",
    "        new_info = input('请输入书籍简介：')\n",
    "        new_book = Book(new_name, new_author, new_info)\n",
    "        \n",
    "        self.books.append(new_book)\n",
    "        print('书籍已成功保存！')\n",
    "        pass\n",
    "    \n",
    "    def show_books(self):\n",
    "        # 显示所有书\n",
    "        for book in self.books:\n",
    "            print(book)\n",
    "        pass\n",
    "    \n",
    "    def borrow_books(self):\n",
    "        # 借书\n",
    "        borrow_name = input('请输入借阅图书名称：')\n",
    "        \n",
    "        res = self.check_book(borrow_name)\n",
    "        if res :\n",
    "            if res.status == 1:\n",
    "                print('你来晚了，已经借阅出去了！')\n",
    "            else:\n",
    "                res.status = 1\n",
    "                print('借阅成功!')\n",
    "        else:\n",
    "            print('真北图书馆正在采购ing...')\n",
    "                \n",
    "    \n",
    "    def return_books(self):\n",
    "        # 还书\n",
    "        name = input('请输入归还书籍名称：')\n",
    "        res = self.check_book(name)\n",
    "        if res:\n",
    "            if res.status == 1:\n",
    "                res.status = 0\n",
    "                print('归还成功，欢迎再次借阅！')\n",
    "            else:\n",
    "                print('还未借阅出去！')\n",
    "        else:\n",
    "            print('请确认图书名称！')\n",
    "        pass\n",
    "    \n",
    "    def check_book(self, name):\n",
    "        for book in self.books:\n",
    "            if book.name == name:\n",
    "                return book\n",
    "         \n",
    "        # 为什么用None?\n",
    "        return None\n",
    "            \n",
    "manager = BookManager()\n",
    "manager.return_books()"
   ]
  },
  {
   "cell_type": "markdown",
   "metadata": {},
   "source": [
    "来试下整体效果"
   ]
  },
  {
   "cell_type": "code",
   "execution_count": 74,
   "metadata": {},
   "outputs": [
    {
     "name": "stdout",
     "output_type": "stream",
     "text": [
      "\n",
      "1.查询\n",
      "2.捐书\n",
      "3.借书\n",
      "4.还书\n",
      "5.退出\n",
      "            \n"
     ]
    },
    {
     "name": "stdin",
     "output_type": "stream",
     "text": [
      "请选择功能对应的数字： 1\n"
     ]
    },
    {
     "name": "stdout",
     "output_type": "stream",
     "text": [
      "书名:数学之美\t 作者:吴军\t 简介:AI的科普读物\t 状态:未借阅\t\n",
      "书名:三国演义\t 作者:罗贯中\t 简介:四大名著之一\t 状态:已借阅\t\n",
      "书名:长安十二时辰\t 作者:马伯庸\t 简介:长安侦探小说\t 状态:未借阅\t\n",
      "\n",
      "1.查询\n",
      "2.捐书\n",
      "3.借书\n",
      "4.还书\n",
      "5.退出\n",
      "            \n"
     ]
    },
    {
     "name": "stdin",
     "output_type": "stream",
     "text": [
      "请选择功能对应的数字： 3\n",
      "请输入借阅图书名称： 数学之美\n"
     ]
    },
    {
     "name": "stdout",
     "output_type": "stream",
     "text": [
      "借阅成功!\n",
      "\n",
      "1.查询\n",
      "2.捐书\n",
      "3.借书\n",
      "4.还书\n",
      "5.退出\n",
      "            \n"
     ]
    },
    {
     "name": "stdin",
     "output_type": "stream",
     "text": [
      "请选择功能对应的数字： 1\n"
     ]
    },
    {
     "name": "stdout",
     "output_type": "stream",
     "text": [
      "书名:数学之美\t 作者:吴军\t 简介:AI的科普读物\t 状态:已借阅\t\n",
      "书名:三国演义\t 作者:罗贯中\t 简介:四大名著之一\t 状态:已借阅\t\n",
      "书名:长安十二时辰\t 作者:马伯庸\t 简介:长安侦探小说\t 状态:未借阅\t\n",
      "\n",
      "1.查询\n",
      "2.捐书\n",
      "3.借书\n",
      "4.还书\n",
      "5.退出\n",
      "            \n"
     ]
    },
    {
     "name": "stdin",
     "output_type": "stream",
     "text": [
      "请选择功能对应的数字： 3\n",
      "请输入借阅图书名称： 三国演义\n"
     ]
    },
    {
     "name": "stdout",
     "output_type": "stream",
     "text": [
      "你来晚了，已经借阅出去了！\n",
      "\n",
      "1.查询\n",
      "2.捐书\n",
      "3.借书\n",
      "4.还书\n",
      "5.退出\n",
      "            \n"
     ]
    },
    {
     "name": "stdin",
     "output_type": "stream",
     "text": [
      "请选择功能对应的数字： 1\n"
     ]
    },
    {
     "name": "stdout",
     "output_type": "stream",
     "text": [
      "书名:数学之美\t 作者:吴军\t 简介:AI的科普读物\t 状态:已借阅\t\n",
      "书名:三国演义\t 作者:罗贯中\t 简介:四大名著之一\t 状态:已借阅\t\n",
      "书名:长安十二时辰\t 作者:马伯庸\t 简介:长安侦探小说\t 状态:未借阅\t\n",
      "\n",
      "1.查询\n",
      "2.捐书\n",
      "3.借书\n",
      "4.还书\n",
      "5.退出\n",
      "            \n"
     ]
    },
    {
     "name": "stdin",
     "output_type": "stream",
     "text": [
      "请选择功能对应的数字： 4\n",
      "请输入归还书籍名称： 三国演义\n"
     ]
    },
    {
     "name": "stdout",
     "output_type": "stream",
     "text": [
      "归还成功，欢迎再次借阅！\n",
      "\n",
      "1.查询\n",
      "2.捐书\n",
      "3.借书\n",
      "4.还书\n",
      "5.退出\n",
      "            \n"
     ]
    },
    {
     "name": "stdin",
     "output_type": "stream",
     "text": [
      "请选择功能对应的数字： 1\n"
     ]
    },
    {
     "name": "stdout",
     "output_type": "stream",
     "text": [
      "书名:数学之美\t 作者:吴军\t 简介:AI的科普读物\t 状态:已借阅\t\n",
      "书名:三国演义\t 作者:罗贯中\t 简介:四大名著之一\t 状态:未借阅\t\n",
      "书名:长安十二时辰\t 作者:马伯庸\t 简介:长安侦探小说\t 状态:未借阅\t\n",
      "\n",
      "1.查询\n",
      "2.捐书\n",
      "3.借书\n",
      "4.还书\n",
      "5.退出\n",
      "            \n"
     ]
    },
    {
     "name": "stdin",
     "output_type": "stream",
     "text": [
      "请选择功能对应的数字： 2\n",
      "请输入书籍名称: python之美\n",
      "请输入书籍作者: chen\n",
      "请输入书籍简介： python info\n"
     ]
    },
    {
     "name": "stdout",
     "output_type": "stream",
     "text": [
      "书籍已成功保存！\n",
      "\n",
      "1.查询\n",
      "2.捐书\n",
      "3.借书\n",
      "4.还书\n",
      "5.退出\n",
      "            \n"
     ]
    },
    {
     "name": "stdin",
     "output_type": "stream",
     "text": [
      "请选择功能对应的数字： 1\n"
     ]
    },
    {
     "name": "stdout",
     "output_type": "stream",
     "text": [
      "书名:数学之美\t 作者:吴军\t 简介:AI的科普读物\t 状态:已借阅\t\n",
      "书名:三国演义\t 作者:罗贯中\t 简介:四大名著之一\t 状态:未借阅\t\n",
      "书名:长安十二时辰\t 作者:马伯庸\t 简介:长安侦探小说\t 状态:未借阅\t\n",
      "书名:python之美\t 作者:chen\t 简介:python info\t 状态:未借阅\t\n",
      "\n",
      "1.查询\n",
      "2.捐书\n",
      "3.借书\n",
      "4.还书\n",
      "5.退出\n",
      "            \n"
     ]
    },
    {
     "name": "stdin",
     "output_type": "stream",
     "text": [
      "请选择功能对应的数字： 4\n",
      "请输入归还书籍名称： python\n"
     ]
    },
    {
     "name": "stdout",
     "output_type": "stream",
     "text": [
      "请确认图书名称！\n",
      "\n",
      "1.查询\n",
      "2.捐书\n",
      "3.借书\n",
      "4.还书\n",
      "5.退出\n",
      "            \n"
     ]
    },
    {
     "name": "stdin",
     "output_type": "stream",
     "text": [
      "请选择功能对应的数字： python之美\n"
     ]
    },
    {
     "ename": "ValueError",
     "evalue": "invalid literal for int() with base 10: 'python之美'",
     "output_type": "error",
     "traceback": [
      "\u001b[0;31m---------------------------------------------------------------------------\u001b[0m",
      "\u001b[0;31mValueError\u001b[0m                                Traceback (most recent call last)",
      "\u001b[0;32m<ipython-input-74-ba3a370380c1>\u001b[0m in \u001b[0;36m<module>\u001b[0;34m\u001b[0m\n\u001b[1;32m     90\u001b[0m \u001b[0;34m\u001b[0m\u001b[0m\n\u001b[1;32m     91\u001b[0m \u001b[0mmanager\u001b[0m \u001b[0;34m=\u001b[0m \u001b[0mBookManager\u001b[0m\u001b[0;34m(\u001b[0m\u001b[0;34m)\u001b[0m\u001b[0;34m\u001b[0m\u001b[0;34m\u001b[0m\u001b[0m\n\u001b[0;32m---> 92\u001b[0;31m \u001b[0mmanager\u001b[0m\u001b[0;34m.\u001b[0m\u001b[0mmenu\u001b[0m\u001b[0;34m(\u001b[0m\u001b[0;34m)\u001b[0m\u001b[0;34m\u001b[0m\u001b[0;34m\u001b[0m\u001b[0m\n\u001b[0m",
      "\u001b[0;32m<ipython-input-74-ba3a370380c1>\u001b[0m in \u001b[0;36mmenu\u001b[0;34m(self)\u001b[0m\n\u001b[1;32m     20\u001b[0m \u001b[0;36m5.\u001b[0m\u001b[0m退出\u001b[0m\u001b[0;34m\u001b[0m\u001b[0;34m\u001b[0m\u001b[0m\n\u001b[1;32m     21\u001b[0m             \"\"\")\n\u001b[0;32m---> 22\u001b[0;31m             \u001b[0mchoice\u001b[0m \u001b[0;34m=\u001b[0m \u001b[0mint\u001b[0m\u001b[0;34m(\u001b[0m\u001b[0minput\u001b[0m\u001b[0;34m(\u001b[0m\u001b[0;34m'请选择功能对应的数字：'\u001b[0m\u001b[0;34m)\u001b[0m\u001b[0;34m)\u001b[0m\u001b[0;34m\u001b[0m\u001b[0;34m\u001b[0m\u001b[0m\n\u001b[0m\u001b[1;32m     23\u001b[0m             \u001b[0;32mif\u001b[0m \u001b[0mchoice\u001b[0m \u001b[0;34m==\u001b[0m \u001b[0;36m1\u001b[0m\u001b[0;34m:\u001b[0m\u001b[0;34m\u001b[0m\u001b[0;34m\u001b[0m\u001b[0m\n\u001b[1;32m     24\u001b[0m                 \u001b[0mself\u001b[0m\u001b[0;34m.\u001b[0m\u001b[0mshow_books\u001b[0m\u001b[0;34m(\u001b[0m\u001b[0;34m)\u001b[0m\u001b[0;34m\u001b[0m\u001b[0;34m\u001b[0m\u001b[0m\n",
      "\u001b[0;31mValueError\u001b[0m: invalid literal for int() with base 10: 'python之美'"
     ]
    }
   ],
   "source": [
    "class BookManager():\n",
    "    books = []\n",
    "    \n",
    "    def __init__(self):\n",
    "        book1 = Book('数学之美','吴军','AI的科普读物')\n",
    "        book2 = Book('三国演义','罗贯中','四大名著之一', 1)\n",
    "        book3 = Book('长安十二时辰','马伯庸','长安侦探小说')\n",
    "        \n",
    "        self.books.append(book1)\n",
    "        self.books.append(book2)\n",
    "        self.books.append(book3)\n",
    "        \n",
    "    def menu(self):\n",
    "        while True:\n",
    "            print(\"\"\"\n",
    "1.查询\n",
    "2.捐书\n",
    "3.借书\n",
    "4.还书\n",
    "5.退出\n",
    "            \"\"\")\n",
    "            choice = int(input('请选择功能对应的数字：'))\n",
    "            if choice == 1:\n",
    "                self.show_books()\n",
    "            elif choice == 2:\n",
    "                self.add_book()\n",
    "            elif choice == 3:\n",
    "                self.borrow_books()\n",
    "            elif choice == 4:\n",
    "                self.return_books()\n",
    "            elif choice == 5:\n",
    "                print('感谢使用！')\n",
    "                break\n",
    "            else:\n",
    "                print('ERROR!请重新选择！')\n",
    "                \n",
    "    def add_book(self):\n",
    "        # 捐书\n",
    "        new_name = input('请输入书籍名称:')\n",
    "        new_author = input('请输入书籍作者:')\n",
    "        new_info = input('请输入书籍简介：')\n",
    "        new_book = Book(new_name, new_author, new_info)\n",
    "        \n",
    "        self.books.append(new_book)\n",
    "        print('书籍已成功保存！')\n",
    "        pass\n",
    "    \n",
    "    def show_books(self):\n",
    "        # 显示所有书\n",
    "        for book in self.books:\n",
    "            print(book)\n",
    "        pass\n",
    "    \n",
    "    def borrow_books(self):\n",
    "        # 借书\n",
    "        borrow_name = input('请输入借阅图书名称：')\n",
    "        \n",
    "        res = self.check_book(borrow_name)\n",
    "        if res :\n",
    "            if res.status == 1:\n",
    "                print('你来晚了，已经借阅出去了！')\n",
    "            else:\n",
    "                res.status = 1\n",
    "                print('借阅成功!')\n",
    "        else:\n",
    "            print('真北图书馆正在采购ing...')\n",
    "                \n",
    "    \n",
    "    def return_books(self):\n",
    "        # 还书\n",
    "        name = input('请输入归还书籍名称：')\n",
    "        res = self.check_book(name)\n",
    "        if res:\n",
    "            if res.status == 1:\n",
    "                res.status = 0\n",
    "                print('归还成功，欢迎再次借阅！')\n",
    "            else:\n",
    "                print('还未借阅出去！')\n",
    "        else:\n",
    "            print('请确认图书名称！')\n",
    "        pass\n",
    "    \n",
    "    def check_book(self, name):\n",
    "        for book in self.books:\n",
    "            if book.name == name:\n",
    "                return book\n",
    "         \n",
    "        # 为什么用None?\n",
    "        return None\n",
    "            \n",
    "manager = BookManager()\n",
    "manager.menu()"
   ]
  },
  {
   "cell_type": "markdown",
   "metadata": {},
   "source": [
    "**面向对象的另一特性：继承**  "
   ]
  },
  {
   "cell_type": "markdown",
   "metadata": {},
   "source": [
    "就如同乾隆与雍正，乾隆继承了雍正的皇位，乾隆继承了雍正的财产。说的现代一点，北京是中国的首都，是中国的一部分，那么北京人属于中国人。\n",
    "\n",
    "继承的一大优点还是复用代码  \n",
    "\n",
    "中国人的特性是黑头发，中国人会使用筷子吃饺子。那么，在Python世界里，我们就可以把黑头发作为中国人的属性，把用筷子吃饺子作为中国人的方法；因为北京人属于中国，北京人也会有黑头发的属性和用筷子吃饺子的方法。\n",
    "\n",
    "当我们像外国人介绍北京人的时候，可以说“北京人是中国人”；那么外国就会自动联想到北京人也会像中国人一样黑头发、用筷子吃饺。这就是“继承”，北京人继承了中国人的所有属性和方法。\n",
    "\n",
    "通过这种事物间的归属关系，信息的传递更加有效。听到Java是一种编程语言，我们就知道Java和Python一样可以编程。看到“雄安新区近邻河北保定”，就明白雄安的地理位置。"
   ]
  },
  {
   "cell_type": "markdown",
   "metadata": {},
   "source": [
    "类的继承的语法：\n",
    "``` python\n",
    "class sub_class(father_class):\n",
    "    pass\n",
    "```"
   ]
  },
  {
   "cell_type": "code",
   "execution_count": 77,
   "metadata": {},
   "outputs": [
    {
     "name": "stdout",
     "output_type": "stream",
     "text": [
      "black\n",
      "吃豆腐脑\n"
     ]
    }
   ],
   "source": [
    "# 我们来写个北京人继承中国人\n",
    "\n",
    "class Chinese:\n",
    "    eye = 'black'\n",
    "     \n",
    "    def eat(self):\n",
    "        print('吃豆腐脑')\n",
    " \n",
    "class Pekinger(Chinese): # Pekinger 北京人\n",
    "    pass # pass表示‘跳过’ 不执行操作\n",
    " \n",
    "chenglong = Pekinger()\n",
    "print(chenglong.eye)\n",
    "chenglong.eat()"
   ]
  },
  {
   "cell_type": "code",
   "execution_count": 78,
   "metadata": {},
   "outputs": [
    {
     "name": "stdout",
     "output_type": "stream",
     "text": [
      "black\n",
      "吃豆腐脑\n"
     ]
    }
   ],
   "source": [
    "# 看下注释\n",
    "\n",
    "class Chinese:\n",
    "    eye = 'black'\n",
    "     \n",
    "    def eat(self):\n",
    "        print('吃豆腐脑')\n",
    " \n",
    "class Pekinger(Chinese): # 通过继承 Chinese类的所有属性和方法都会传递到子类\n",
    "    pass # pass表示‘跳过’ 不执行操作\n",
    " \n",
    "chenglong = Pekinger() # 创建子类实例对象，准备验证子类是否有父类的方法和属性\n",
    "print(chenglong.eye) # 可以调用父类的属性\n",
    "chenglong.eat() # 可以调用父类的方法"
   ]
  },
  {
   "cell_type": "markdown",
   "metadata": {},
   "source": [
    "可以使用`isinstance`来判断是否属于某个类"
   ]
  },
  {
   "cell_type": "code",
   "execution_count": 80,
   "metadata": {},
   "outputs": [
    {
     "name": "stdout",
     "output_type": "stream",
     "text": [
      "True\n"
     ]
    },
    {
     "data": {
      "text/plain": [
       "(True, True)"
      ]
     },
     "execution_count": 80,
     "metadata": {},
     "output_type": "execute_result"
    }
   ],
   "source": [
    "print(isinstance(1,int)) # 判断1是否为整数类的实例\n",
    "isinstance(chenglong, Pekinger), isinstance(chenglong, Chinese)"
   ]
  },
  {
   "cell_type": "markdown",
   "metadata": {},
   "source": [
    "所有的类都属于`object`类"
   ]
  },
  {
   "cell_type": "code",
   "execution_count": 81,
   "metadata": {},
   "outputs": [
    {
     "data": {
      "text/plain": [
       "True"
      ]
     },
     "execution_count": 81,
     "metadata": {},
     "output_type": "execute_result"
    }
   ],
   "source": [
    "isinstance(int, object)"
   ]
  },
  {
   "cell_type": "markdown",
   "metadata": {},
   "source": [
    "也就是类是可以多重继承的，这里不再赘述。"
   ]
  },
  {
   "cell_type": "code",
   "execution_count": 84,
   "metadata": {},
   "outputs": [
    {
     "name": "stdout",
     "output_type": "stream",
     "text": [
      "black\n",
      "Beijing\n",
      "喜欢吃饺子\n",
      "我们会讲北京话。\n"
     ]
    }
   ],
   "source": [
    "class Chinese:\n",
    "    eye = 'black'\n",
    " \n",
    "    def eat(self):\n",
    "        print('喜欢吃饺子')\n",
    "\n",
    "class Pekinger(Chinese):  # 类的继承\n",
    "    native_place = 'Beijing'  # 新增属性\n",
    " \n",
    "    def dialect(self):  # 新的方法\n",
    "        print('我们会讲北京话。')\n",
    "\n",
    "kris = Pekinger()\n",
    "# 调用父类的属性\n",
    "print(kris.eye)\n",
    "# 子类新增的属性也能调用\n",
    "print(kris.native_place)\n",
    "# 父类的方法能用\n",
    "kris.eat()\n",
    "#子类的方法也能调用\n",
    "kris.dialect()"
   ]
  },
  {
   "cell_type": "markdown",
   "metadata": {},
   "source": [
    "代码重写，更加规范化，具有通用性"
   ]
  },
  {
   "cell_type": "code",
   "execution_count": 85,
   "metadata": {},
   "outputs": [
    {
     "name": "stdout",
     "output_type": "stream",
     "text": [
      "我喜欢吃豆腐脑\n",
      "我喜欢吃咸豆花\n"
     ]
    }
   ],
   "source": [
    "class Chinese:\n",
    "    def eat(self,food='豆腐脑'):\n",
    "        print('我喜欢吃%s' % food)\n",
    "\n",
    "class Pekinger(Chinese):\n",
    "    # 间接对方法进行重写\n",
    "    def eat(self, taste='咸', food='豆花'):\n",
    "        Chinese.eat(self, taste+food)\n",
    "\n",
    "dilraba = Chinese() # 迪丽热巴\n",
    "luhan = Pekinger() # 鹿晗\n",
    "dilraba.eat()\n",
    "luhan.eat()"
   ]
  },
  {
   "cell_type": "markdown",
   "metadata": {
    "toc-hr-collapsed": false
   },
   "source": [
    "# 其它"
   ]
  },
  {
   "cell_type": "markdown",
   "metadata": {},
   "source": [
    "## 异常"
   ]
  },
  {
   "cell_type": "markdown",
   "metadata": {},
   "source": [
    "异常语法：\n",
    "\n",
    "``` python\n",
    "try:\n",
    "    # code block\n",
    "    int(input('请输入数字'))\n",
    "    pass\n",
    "except Exception:\n",
    "    # 一些处理\n",
    "    pass\n",
    "    print('遇到问题了！')\n",
    "```\n",
    "\n",
    "异常能够使代码继续运行，而不会中断"
   ]
  },
  {
   "cell_type": "code",
   "execution_count": 91,
   "metadata": {},
   "outputs": [
    {
     "name": "stdout",
     "output_type": "stream",
     "text": [
      "请选择功能：\n",
      "1.查看\n",
      "2.借书\n",
      "3.还书\n",
      "4.捐书\n",
      "5.退出\n"
     ]
    },
    {
     "name": "stdin",
     "output_type": "stream",
     "text": [
      "请输入功能数字:\n",
      " 3\n"
     ]
    },
    {
     "name": "stdout",
     "output_type": "stream",
     "text": [
      "请选择功能：\n",
      "1.查看\n",
      "2.借书\n",
      "3.还书\n",
      "4.捐书\n",
      "5.退出\n"
     ]
    },
    {
     "name": "stdin",
     "output_type": "stream",
     "text": [
      "请输入功能数字:\n",
      " 5\n"
     ]
    }
   ],
   "source": [
    "info = '''请选择功能：\n",
    "1.查看\n",
    "2.借书\n",
    "3.还书\n",
    "4.捐书\n",
    "5.退出'''\n",
    "\n",
    "action = 0\n",
    "while action != 5:\n",
    "    print(info)\n",
    "    try:\n",
    "        action = int(input('请输入功能数字:\\n'))\n",
    "    except Exception:\n",
    "        print('遇到问题了！')"
   ]
  },
  {
   "cell_type": "markdown",
   "metadata": {},
   "source": [
    "产生异常"
   ]
  },
  {
   "cell_type": "code",
   "execution_count": 98,
   "metadata": {},
   "outputs": [
    {
     "name": "stdout",
     "output_type": "stream",
     "text": [
      "成年人\n"
     ]
    },
    {
     "ename": "Exception",
     "evalue": "('Invalid Age!', 'aaa')",
     "output_type": "error",
     "traceback": [
      "\u001b[0;31m---------------------------------------------------------------------------\u001b[0m",
      "\u001b[0;31mException\u001b[0m                                 Traceback (most recent call last)",
      "\u001b[0;32m<ipython-input-98-576b927b499a>\u001b[0m in \u001b[0;36m<module>\u001b[0;34m\u001b[0m\n\u001b[1;32m      9\u001b[0m \u001b[0;34m\u001b[0m\u001b[0m\n\u001b[1;32m     10\u001b[0m \u001b[0mis_adult\u001b[0m\u001b[0;34m(\u001b[0m\u001b[0;36m29\u001b[0m\u001b[0;34m)\u001b[0m\u001b[0;34m\u001b[0m\u001b[0;34m\u001b[0m\u001b[0m\n\u001b[0;32m---> 11\u001b[0;31m \u001b[0mis_adult\u001b[0m\u001b[0;34m(\u001b[0m\u001b[0;34m'aaa'\u001b[0m\u001b[0;34m)\u001b[0m\u001b[0;34m\u001b[0m\u001b[0;34m\u001b[0m\u001b[0m\n\u001b[0m",
      "\u001b[0;32m<ipython-input-98-576b927b499a>\u001b[0m in \u001b[0;36mis_adult\u001b[0;34m(age)\u001b[0m\n\u001b[1;32m      1\u001b[0m \u001b[0;32mdef\u001b[0m \u001b[0mis_adult\u001b[0m\u001b[0;34m(\u001b[0m\u001b[0mage\u001b[0m\u001b[0;34m)\u001b[0m\u001b[0;34m:\u001b[0m\u001b[0;34m\u001b[0m\u001b[0;34m\u001b[0m\u001b[0m\n\u001b[1;32m      2\u001b[0m     \u001b[0;32mif\u001b[0m \u001b[0;32mnot\u001b[0m \u001b[0misinstance\u001b[0m\u001b[0;34m(\u001b[0m\u001b[0mage\u001b[0m\u001b[0;34m,\u001b[0m \u001b[0mint\u001b[0m\u001b[0;34m)\u001b[0m \u001b[0;32mor\u001b[0m \u001b[0mage\u001b[0m \u001b[0;34m<\u001b[0m \u001b[0;36m1\u001b[0m\u001b[0;34m:\u001b[0m\u001b[0;34m\u001b[0m\u001b[0;34m\u001b[0m\u001b[0m\n\u001b[0;32m----> 3\u001b[0;31m         \u001b[0;32mraise\u001b[0m \u001b[0mException\u001b[0m\u001b[0;34m(\u001b[0m\u001b[0;34m\"Invalid Age!\"\u001b[0m\u001b[0;34m,\u001b[0m \u001b[0mage\u001b[0m\u001b[0;34m)\u001b[0m\u001b[0;34m\u001b[0m\u001b[0;34m\u001b[0m\u001b[0m\n\u001b[0m\u001b[1;32m      4\u001b[0m         \u001b[0;31m# 触发异常后，后面的代码就不会再执行\u001b[0m\u001b[0;34m\u001b[0m\u001b[0;34m\u001b[0m\u001b[0;34m\u001b[0m\u001b[0m\n\u001b[1;32m      5\u001b[0m     \u001b[0;32mif\u001b[0m \u001b[0mage\u001b[0m \u001b[0;34m>=\u001b[0m \u001b[0;36m18\u001b[0m\u001b[0;34m:\u001b[0m\u001b[0;34m\u001b[0m\u001b[0;34m\u001b[0m\u001b[0m\n",
      "\u001b[0;31mException\u001b[0m: ('Invalid Age!', 'aaa')"
     ]
    }
   ],
   "source": [
    "def is_adult(age):\n",
    "    if not isinstance(age, int) or age < 1:\n",
    "        raise Exception(\"Invalid Age!\", age)\n",
    "        # 触发异常后，后面的代码就不会再执行\n",
    "    if age >= 18:\n",
    "        print('成年人')\n",
    "    else:\n",
    "        print('未成年人')\n",
    "\n",
    "is_adult(29)\n",
    "is_adult('aaa')"
   ]
  },
  {
   "cell_type": "markdown",
   "metadata": {},
   "source": [
    "## 作用域和命名空间示例\\*"
   ]
  },
  {
   "cell_type": "code",
   "execution_count": 29,
   "metadata": {},
   "outputs": [
    {
     "name": "stdout",
     "output_type": "stream",
     "text": [
      "After local assignment: test spam\n",
      "After nonlocal assignment: nonlocal spam\n",
      "After global assignment: nonlocal spam\n",
      "In global scope: global spam\n"
     ]
    }
   ],
   "source": [
    "def scope_test():\n",
    "    def do_local():\n",
    "        spam = \"local spam\"\n",
    "\n",
    "    def do_nonlocal():\n",
    "        nonlocal spam\n",
    "        spam = \"nonlocal spam\"\n",
    "\n",
    "    def do_global():\n",
    "        global spam\n",
    "        spam = \"global spam\"\n",
    "\n",
    "    spam = \"test spam\"\n",
    "    do_local()\n",
    "    print(\"After local assignment:\", spam)\n",
    "    do_nonlocal()\n",
    "    print(\"After nonlocal assignment:\", spam)\n",
    "    do_global()\n",
    "    print(\"After global assignment:\", spam)\n",
    "\n",
    "scope_test()\n",
    "print(\"In global scope:\", spam)"
   ]
  },
  {
   "cell_type": "markdown",
   "metadata": {},
   "source": [
    "请注意 局部 赋值（这是默认状态）不会改变 scope_test 对 spam 的绑定。 nonlocal 赋值会改变 scope_test 对 spam 的绑定，而 global 赋值会改变模块层级的绑定。\n",
    "\n",
    "您还可以在 global 赋值之前看到之前没有 spam 的绑定。"
   ]
  },
  {
   "cell_type": "markdown",
   "metadata": {},
   "source": [
    "**References**  \n",
    "[Python类_官方文档](https://docs.python.org/zh-cn/3/tutorial/classes.html)  \n",
    "[如何理解python的类与对象？](https://www.zhihu.com/question/27699413)  \n",
    "\n"
   ]
  }
 ],
 "metadata": {
  "kernelspec": {
   "display_name": "Python 3",
   "language": "python",
   "name": "python3"
  },
  "language_info": {
   "codemirror_mode": {
    "name": "ipython",
    "version": 3
   },
   "file_extension": ".py",
   "mimetype": "text/x-python",
   "name": "python",
   "nbconvert_exporter": "python",
   "pygments_lexer": "ipython3",
   "version": "3.7.3"
  }
 },
 "nbformat": 4,
 "nbformat_minor": 4
}
